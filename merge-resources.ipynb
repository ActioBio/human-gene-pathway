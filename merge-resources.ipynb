{
 "cells": [
  {
   "cell_type": "code",
   "execution_count": 1,
   "metadata": {
    "collapsed": false
   },
   "outputs": [],
   "source": [
    "import csv\n",
    "import collections\n",
    "\n",
    "import pandas\n",
    "import numpy\n",
    "import seaborn\n",
    "import matplotlib.pyplot as plt\n",
    "\n",
    "%matplotlib inline"
   ]
  },
  {
   "cell_type": "markdown",
   "metadata": {},
   "source": [
    "## Read entrez gene"
   ]
  },
  {
   "cell_type": "code",
   "execution_count": 2,
   "metadata": {
    "collapsed": true
   },
   "outputs": [],
   "source": [
    "# read entrez genes\n",
    "url = 'https://raw.githubusercontent.com/dhimmel/entrez-gene/5352b31e04ec136e99d25a0ba63e8867aa71b69f/data/genes-human.tsv'\n",
    "entrez_df = pandas.read_table(url, dtype={'GeneID': str})\n",
    "human_genes = set(entrez_df.GeneID)\n",
    "human_coding_genes = set(entrez_df[entrez_df.type_of_gene == 'protein-coding'].GeneID)"
   ]
  },
  {
   "cell_type": "markdown",
   "metadata": {},
   "source": [
    "## GMT functions"
   ]
  },
  {
   "cell_type": "code",
   "execution_count": 3,
   "metadata": {
    "collapsed": false
   },
   "outputs": [],
   "source": [
    "def read_gmt(path):\n",
    "    read_file = open(path)\n",
    "    reader = csv.reader(read_file, delimiter='\\t')\n",
    "    for row in reader:\n",
    "        name = row[0]\n",
    "        description = row[1]\n",
    "        genes = set(row[2:])\n",
    "        yield name, description, genes\n",
    "    read_file.close()"
   ]
  },
  {
   "cell_type": "markdown",
   "metadata": {},
   "source": [
    "## Resource downloads"
   ]
  },
  {
   "cell_type": "code",
   "execution_count": 4,
   "metadata": {
    "collapsed": false
   },
   "outputs": [
    {
     "name": "stdout",
     "output_type": "stream",
     "text": [
      "Last-modified header missing -- time-stamps turned off.\n",
      "2016-02-04 16:15:35 URL:http://software.broadinstitute.org/gsea/resources/msigdb/5.1/c2.cp.v5.1.entrez.gmt [514074/514074] -> \"download/c2.cp.v5.1.entrez.gmt\" [1]\n"
     ]
    }
   ],
   "source": [
    "# download wikipathways\n",
    "url = 'http://www.pathvisio.org/data/bots/gmt/wikipathways.gmt'\n",
    "! wget --timestamping --no-verbose --directory-prefix=download $url\n",
    "\n",
    "# download MSigDB 5.1 pathways\n",
    "url = 'https://www.broadinstitute.org/gsea/resources/msigdb/5.1/c2.cp.v5.1.entrez.gmt'\n",
    "! wget --timestamping --no-verbose --directory-prefix=download $url"
   ]
  },
  {
   "cell_type": "markdown",
   "metadata": {},
   "source": [
    "## Parse WikiPathways"
   ]
  },
  {
   "cell_type": "code",
   "execution_count": 5,
   "metadata": {
    "collapsed": false
   },
   "outputs": [
    {
     "data": {
      "text/plain": [
       "1313"
      ]
     },
     "execution_count": 5,
     "metadata": {},
     "output_type": "execute_result"
    }
   ],
   "source": [
    "gmt_generator = read_gmt('download/wikipathways.gmt')\n",
    "wikipath_df = pandas.DataFrame(gmt_generator, columns = ['name', 'description', 'genes'])\n",
    "len(wikipath_df)"
   ]
  },
  {
   "cell_type": "code",
   "execution_count": 6,
   "metadata": {
    "collapsed": false
   },
   "outputs": [
    {
     "data": {
      "text/plain": [
       "296"
      ]
     },
     "execution_count": 6,
     "metadata": {},
     "output_type": "execute_result"
    }
   ],
   "source": [
    "# Remove genes absent from our entrez gene version\n",
    "for genes in wikipath_df.genes:\n",
    "    genes &= human_genes\n",
    "wikipath_df = wikipath_df[wikipath_df.genes.map(bool)]\n",
    "len(wikipath_df)"
   ]
  },
  {
   "cell_type": "code",
   "execution_count": 7,
   "metadata": {
    "collapsed": false
   },
   "outputs": [
    {
     "data": {
      "text/html": [
       "<div>\n",
       "<table border=\"1\" class=\"dataframe\">\n",
       "  <thead>\n",
       "    <tr style=\"text-align: right;\">\n",
       "      <th></th>\n",
       "      <th>name</th>\n",
       "      <th>description</th>\n",
       "      <th>genes</th>\n",
       "    </tr>\n",
       "  </thead>\n",
       "  <tbody>\n",
       "    <tr>\n",
       "      <th>950</th>\n",
       "      <td>Tryptophan metabolism%WikiPathways_20160205%WP...</td>\n",
       "      <td>http://www.wikipathways.org/instance/WP465_r79226</td>\n",
       "      <td>{1892, 130013, 125061, 3028, 1588, 216, 26, 51...</td>\n",
       "    </tr>\n",
       "    <tr>\n",
       "      <th>951</th>\n",
       "      <td>Steroid Biosynthesis%WikiPathways_20160205%WP4...</td>\n",
       "      <td>http://www.wikipathways.org/instance/WP496_r69016</td>\n",
       "      <td>{3284, 1586, 3292, 3294, 51478, 1369, 3293, 21...</td>\n",
       "    </tr>\n",
       "    <tr>\n",
       "      <th>952</th>\n",
       "      <td>Arylamine metabolism%WikiPathways_20160205%WP6...</td>\n",
       "      <td>http://www.wikipathways.org/instance/WP694_r67062</td>\n",
       "      <td>{6799, 10, 54657, 6817, 54600, 1544}</td>\n",
       "    </tr>\n",
       "    <tr>\n",
       "      <th>953</th>\n",
       "      <td>Regulation of Actin Cytoskeleton%WikiPathways_...</td>\n",
       "      <td>http://www.wikipathways.org/instance/WP51_r79977</td>\n",
       "      <td>{2264, 9564, 2263, 28964, 5289, 26291, 10787, ...</td>\n",
       "    </tr>\n",
       "    <tr>\n",
       "      <th>954</th>\n",
       "      <td>Interleukin-11 Signaling Pathway%WikiPathways_...</td>\n",
       "      <td>http://www.wikipathways.org/instance/WP2332_r7...</td>\n",
       "      <td>{5594, 2534, 6774, 1385, 3265, 1147, 3551, 367...</td>\n",
       "    </tr>\n",
       "  </tbody>\n",
       "</table>\n",
       "</div>"
      ],
      "text/plain": [
       "                                                  name  \\\n",
       "950  Tryptophan metabolism%WikiPathways_20160205%WP...   \n",
       "951  Steroid Biosynthesis%WikiPathways_20160205%WP4...   \n",
       "952  Arylamine metabolism%WikiPathways_20160205%WP6...   \n",
       "953  Regulation of Actin Cytoskeleton%WikiPathways_...   \n",
       "954  Interleukin-11 Signaling Pathway%WikiPathways_...   \n",
       "\n",
       "                                           description  \\\n",
       "950  http://www.wikipathways.org/instance/WP465_r79226   \n",
       "951  http://www.wikipathways.org/instance/WP496_r69016   \n",
       "952  http://www.wikipathways.org/instance/WP694_r67062   \n",
       "953   http://www.wikipathways.org/instance/WP51_r79977   \n",
       "954  http://www.wikipathways.org/instance/WP2332_r7...   \n",
       "\n",
       "                                                 genes  \n",
       "950  {1892, 130013, 125061, 3028, 1588, 216, 26, 51...  \n",
       "951  {3284, 1586, 3292, 3294, 51478, 1369, 3293, 21...  \n",
       "952               {6799, 10, 54657, 6817, 54600, 1544}  \n",
       "953  {2264, 9564, 2263, 28964, 5289, 26291, 10787, ...  \n",
       "954  {5594, 2534, 6774, 1385, 3265, 1147, 3551, 367...  "
      ]
     },
     "execution_count": 7,
     "metadata": {},
     "output_type": "execute_result"
    }
   ],
   "source": [
    "wikipath_df.head()"
   ]
  },
  {
   "cell_type": "code",
   "execution_count": 8,
   "metadata": {
    "collapsed": false
   },
   "outputs": [
    {
     "data": {
      "image/png": "[encoded data removed]",
      "text/plain": [
       "<matplotlib.figure.Figure at 0x7f41d730d550>"
      ]
     },
     "metadata": {},
     "output_type": "display_data"
    }
   ],
   "source": [
    "# Density plot of genes per pathway\n",
    "seaborn.kdeplot(wikipath_df.genes.map(len), shade=True, );"
   ]
  },
  {
   "cell_type": "code",
   "execution_count": 9,
   "metadata": {
    "collapsed": false
   },
   "outputs": [
    {
     "data": {
      "image/png": "[encoded data removed]",
      "text/plain": [
       "<matplotlib.figure.Figure at 0x7f41d746ceb8>"
      ]
     },
     "metadata": {},
     "output_type": "display_data"
    }
   ],
   "source": [
    "# Histogram of genes per pathway\n",
    "plt.hist(list(wikipath_df.genes.map(len)), numpy.arange(100));\n",
    "plt.xlim(0, 100);"
   ]
  },
  {
   "cell_type": "markdown",
   "metadata": {},
   "source": [
    "## Parse MSigDB Pathways"
   ]
  },
  {
   "cell_type": "code",
   "execution_count": 10,
   "metadata": {
    "collapsed": false
   },
   "outputs": [
    {
     "data": {
      "text/plain": [
       "1330"
      ]
     },
     "execution_count": 10,
     "metadata": {},
     "output_type": "execute_result"
    }
   ],
   "source": [
    "gmt_generator = read_gmt('download/c2.cp.v5.1.entrez.gmt')\n",
    "msigdb_df = pandas.DataFrame(gmt_generator, columns = ['name', 'description', 'genes'])\n",
    "len(msigdb_df)"
   ]
  },
  {
   "cell_type": "code",
   "execution_count": 11,
   "metadata": {
    "collapsed": false
   },
   "outputs": [
    {
     "data": {
      "text/plain": [
       "1330"
      ]
     },
     "execution_count": 11,
     "metadata": {},
     "output_type": "execute_result"
    }
   ],
   "source": [
    "# Remove genes absent from our entrez gene version\n",
    "for genes in msigdb_df.genes:\n",
    "    genes &= human_genes\n",
    "msigdb_df = msigdb_df[msigdb_df.genes.map(bool)]\n",
    "len(msigdb_df)"
   ]
  },
  {
   "cell_type": "code",
   "execution_count": 12,
   "metadata": {
    "collapsed": false
   },
   "outputs": [
    {
     "data": {
      "text/html": [
       "<div>\n",
       "<table border=\"1\" class=\"dataframe\">\n",
       "  <thead>\n",
       "    <tr style=\"text-align: right;\">\n",
       "      <th></th>\n",
       "      <th>name</th>\n",
       "      <th>description</th>\n",
       "      <th>genes</th>\n",
       "    </tr>\n",
       "  </thead>\n",
       "  <tbody>\n",
       "    <tr>\n",
       "      <th>0</th>\n",
       "      <td>KEGG_GLYCOLYSIS_GLUCONEOGENESIS</td>\n",
       "      <td>http://www.broadinstitute.org/gsea/msigdb/card...</td>\n",
       "      <td>{5315, 229, 8789, 3948, 222, 5230, 5161, 5213,...</td>\n",
       "    </tr>\n",
       "    <tr>\n",
       "      <th>1</th>\n",
       "      <td>KEGG_CITRATE_CYCLE_TCA_CYCLE</td>\n",
       "      <td>http://www.broadinstitute.org/gsea/msigdb/card...</td>\n",
       "      <td>{8802, 47, 6392, 55753, 5161, 1737, 3419, 5091...</td>\n",
       "    </tr>\n",
       "    <tr>\n",
       "      <th>2</th>\n",
       "      <td>KEGG_PENTOSE_PHOSPHATE_PATHWAY</td>\n",
       "      <td>http://www.broadinstitute.org/gsea/msigdb/card...</td>\n",
       "      <td>{9563, 229, 8789, 51071, 5213, 226, 25796, 253...</td>\n",
       "    </tr>\n",
       "    <tr>\n",
       "      <th>3</th>\n",
       "      <td>KEGG_PENTOSE_AND_GLUCURONATE_INTERCONVERSIONS</td>\n",
       "      <td>http://www.broadinstitute.org/gsea/msigdb/card...</td>\n",
       "      <td>{7358, 7367, 10941, 2990, 79799, 7363, 27294, ...</td>\n",
       "    </tr>\n",
       "    <tr>\n",
       "      <th>4</th>\n",
       "      <td>KEGG_FRUCTOSE_AND_MANNOSE_METABOLISM</td>\n",
       "      <td>http://www.broadinstitute.org/gsea/msigdb/card...</td>\n",
       "      <td>{229, 8789, 29926, 8898, 5210, 5213, 5207, 226...</td>\n",
       "    </tr>\n",
       "  </tbody>\n",
       "</table>\n",
       "</div>"
      ],
      "text/plain": [
       "                                            name  \\\n",
       "0                KEGG_GLYCOLYSIS_GLUCONEOGENESIS   \n",
       "1                   KEGG_CITRATE_CYCLE_TCA_CYCLE   \n",
       "2                 KEGG_PENTOSE_PHOSPHATE_PATHWAY   \n",
       "3  KEGG_PENTOSE_AND_GLUCURONATE_INTERCONVERSIONS   \n",
       "4           KEGG_FRUCTOSE_AND_MANNOSE_METABOLISM   \n",
       "\n",
       "                                         description  \\\n",
       "0  http://www.broadinstitute.org/gsea/msigdb/card...   \n",
       "1  http://www.broadinstitute.org/gsea/msigdb/card...   \n",
       "2  http://www.broadinstitute.org/gsea/msigdb/card...   \n",
       "3  http://www.broadinstitute.org/gsea/msigdb/card...   \n",
       "4  http://www.broadinstitute.org/gsea/msigdb/card...   \n",
       "\n",
       "                                               genes  \n",
       "0  {5315, 229, 8789, 3948, 222, 5230, 5161, 5213,...  \n",
       "1  {8802, 47, 6392, 55753, 5161, 1737, 3419, 5091...  \n",
       "2  {9563, 229, 8789, 51071, 5213, 226, 25796, 253...  \n",
       "3  {7358, 7367, 10941, 2990, 79799, 7363, 27294, ...  \n",
       "4  {229, 8789, 29926, 8898, 5210, 5213, 5207, 226...  "
      ]
     },
     "execution_count": 12,
     "metadata": {},
     "output_type": "execute_result"
    }
   ],
   "source": [
    "msigdb_df.head()"
   ]
  },
  {
   "cell_type": "code",
   "execution_count": 13,
   "metadata": {
    "collapsed": false
   },
   "outputs": [
    {
     "data": {
      "image/png": "[encoded data removed]",
      "text/plain": [
       "<matplotlib.figure.Figure at 0x7f41d5f33d68>"
      ]
     },
     "metadata": {},
     "output_type": "display_data"
    }
   ],
   "source": [
    "# Density plot of genes per pathway\n",
    "seaborn.kdeplot(msigdb_df.genes.map(len), shade=True);"
   ]
  },
  {
   "cell_type": "code",
   "execution_count": 14,
   "metadata": {
    "collapsed": false
   },
   "outputs": [
    {
     "data": {
      "image/png": "[encoded data removed]",
      "text/plain": [
       "<matplotlib.figure.Figure at 0x7f41cccda198>"
      ]
     },
     "metadata": {},
     "output_type": "display_data"
    }
   ],
   "source": [
    "# Histogram of genes per pathway\n",
    "plt.hist(msigdb_df.genes.map(len), numpy.arange(100));\n",
    "plt.xlim(0, 50);"
   ]
  },
  {
   "cell_type": "code",
   "execution_count": 15,
   "metadata": {
    "collapsed": false
   },
   "outputs": [
    {
     "data": {
      "text/plain": [
       "Counter({'BIOCARTA': 217,\n",
       "         'KEGG': 186,\n",
       "         'NABA': 10,\n",
       "         'PID': 196,\n",
       "         'REACTOME': 674,\n",
       "         'SA': 10,\n",
       "         'SIG': 8,\n",
       "         'ST': 28,\n",
       "         'WNT': 1})"
      ]
     },
     "execution_count": 15,
     "metadata": {},
     "output_type": "execute_result"
    }
   ],
   "source": [
    "# MSigDB pathways per source database\n",
    "# https://www.broadinstitute.org/gsea/msigdb/collection_details.jsp#CP\n",
    "collections.Counter(msigdb_df.name.map(lambda x: x.split('_', 1)[0]))"
   ]
  },
  {
   "cell_type": "markdown",
   "metadata": {},
   "source": [
    "## Merge resources into a pathway dataframe"
   ]
  },
  {
   "cell_type": "code",
   "execution_count": 16,
   "metadata": {
    "collapsed": false
   },
   "outputs": [
    {
     "data": {
      "text/plain": [
       "1626"
      ]
     },
     "execution_count": 16,
     "metadata": {},
     "output_type": "execute_result"
    }
   ],
   "source": [
    "pathway_df = pandas.concat([\n",
    "    pandas.DataFrame({\n",
    "        'identifier': wikipath_df['description'].map(lambda x: x.rsplit('/', 1)[1]),\n",
    "        'name': wikipath_df['name'],\n",
    "        'url': wikipath_df['description'],\n",
    "        'source': 'wikipathways',\n",
    "        'license': 'CC-BY 3.0',\n",
    "        'genes': wikipath_df.genes\n",
    "    }),\n",
    "    pandas.DataFrame({\n",
    "        'identifier': msigdb_df['name'],\n",
    "        'name': msigdb_df['name'],\n",
    "        'url': msigdb_df['description'],\n",
    "        'source': 'msigdb',\n",
    "        'license': 'http://www.broadinstitute.org/cancer/software/gsea/wiki/index.php/License_info',\n",
    "        'genes': msigdb_df.genes}),\n",
    "])[['identifier', 'name', 'url', 'source', 'license', 'genes']]\n",
    "len(pathway_df)"
   ]
  },
  {
   "cell_type": "code",
   "execution_count": 17,
   "metadata": {
    "collapsed": false
   },
   "outputs": [
    {
     "data": {
      "text/plain": [
       "1624"
      ]
     },
     "execution_count": 17,
     "metadata": {},
     "output_type": "execute_result"
    }
   ],
   "source": [
    "# Remove duplicate pathways\n",
    "pathway_df.genes = pathway_df.genes.map(frozenset)\n",
    "pathway_df = pathway_df.drop_duplicates(['genes'])\n",
    "len(pathway_df)"
   ]
  },
  {
   "cell_type": "code",
   "execution_count": 18,
   "metadata": {
    "collapsed": false
   },
   "outputs": [],
   "source": [
    "pathway_df['coding_genes'] = pathway_df.genes.map(lambda x: x & human_coding_genes)"
   ]
  },
  {
   "cell_type": "code",
   "execution_count": 19,
   "metadata": {
    "collapsed": false
   },
   "outputs": [],
   "source": [
    "pathway_df.insert(3, 'n_genes', pathway_df.genes.map(len))\n",
    "pathway_df.insert(4, 'n_coding_genes', pathway_df.coding_genes.map(len))"
   ]
  },
  {
   "cell_type": "code",
   "execution_count": 20,
   "metadata": {
    "collapsed": false
   },
   "outputs": [
    {
     "data": {
      "text/html": [
       "<div>\n",
       "<table border=\"1\" class=\"dataframe\">\n",
       "  <thead>\n",
       "    <tr style=\"text-align: right;\">\n",
       "      <th></th>\n",
       "      <th>identifier</th>\n",
       "      <th>name</th>\n",
       "      <th>url</th>\n",
       "      <th>n_genes</th>\n",
       "      <th>n_coding_genes</th>\n",
       "      <th>source</th>\n",
       "      <th>license</th>\n",
       "      <th>genes</th>\n",
       "      <th>coding_genes</th>\n",
       "    </tr>\n",
       "  </thead>\n",
       "  <tbody>\n",
       "    <tr>\n",
       "      <th>382</th>\n",
       "      <td>BIOCARTA_41BB_PATHWAY</td>\n",
       "      <td>BIOCARTA_41BB_PATHWAY</td>\n",
       "      <td>http://www.broadinstitute.org/gsea/msigdb/card...</td>\n",
       "      <td>17</td>\n",
       "      <td>17</td>\n",
       "      <td>msigdb</td>\n",
       "      <td>http://www.broadinstitute.org/cancer/software/...</td>\n",
       "      <td>(11183, 5599, 3458, 1147, 3558, 4214, 3725, 35...</td>\n",
       "      <td>(4217, 1432, 3604, 11183, 5599, 3458, 4792, 11...</td>\n",
       "    </tr>\n",
       "    <tr>\n",
       "      <th>199</th>\n",
       "      <td>BIOCARTA_ACE2_PATHWAY</td>\n",
       "      <td>BIOCARTA_ACE2_PATHWAY</td>\n",
       "      <td>http://www.broadinstitute.org/gsea/msigdb/card...</td>\n",
       "      <td>13</td>\n",
       "      <td>13</td>\n",
       "      <td>msigdb</td>\n",
       "      <td>http://www.broadinstitute.org/cancer/software/...</td>\n",
       "      <td>(1284, 1286, 1215, 1287, 59272, 185, 5972, 163...</td>\n",
       "      <td>(1284, 1282, 1215, 1287, 59272, 185, 5972, 163...</td>\n",
       "    </tr>\n",
       "    <tr>\n",
       "      <th>356</th>\n",
       "      <td>BIOCARTA_ACH_PATHWAY</td>\n",
       "      <td>BIOCARTA_ACH_PATHWAY</td>\n",
       "      <td>http://www.broadinstitute.org/gsea/msigdb/card...</td>\n",
       "      <td>16</td>\n",
       "      <td>16</td>\n",
       "      <td>msigdb</td>\n",
       "      <td>http://www.broadinstitute.org/cancer/software/...</td>\n",
       "      <td>(4593, 356, 572, 5290, 207, 5294, 6714, 5913, ...</td>\n",
       "      <td>(4593, 2185, 5295, 5747, 356, 572, 5290, 1146,...</td>\n",
       "    </tr>\n",
       "    <tr>\n",
       "      <th>402</th>\n",
       "      <td>BIOCARTA_ACTINY_PATHWAY</td>\n",
       "      <td>BIOCARTA_ACTINY_PATHWAY</td>\n",
       "      <td>http://www.broadinstitute.org/gsea/msigdb/card...</td>\n",
       "      <td>20</td>\n",
       "      <td>20</td>\n",
       "      <td>msigdb</td>\n",
       "      <td>http://www.broadinstitute.org/cancer/software/...</td>\n",
       "      <td>(10096, 10093, 10109, 58, 8936, 10097, 10787, ...</td>\n",
       "      <td>(10810, 10096, 10093, 10109, 58, 5688, 8936, 1...</td>\n",
       "    </tr>\n",
       "    <tr>\n",
       "      <th>205</th>\n",
       "      <td>BIOCARTA_AGPCR_PATHWAY</td>\n",
       "      <td>BIOCARTA_AGPCR_PATHWAY</td>\n",
       "      <td>http://www.broadinstitute.org/gsea/msigdb/card...</td>\n",
       "      <td>13</td>\n",
       "      <td>13</td>\n",
       "      <td>msigdb</td>\n",
       "      <td>http://www.broadinstitute.org/cancer/software/...</td>\n",
       "      <td>(2782, 2792, 5577, 5575, 2778, 408, 5573, 5576...</td>\n",
       "      <td>(2782, 2792, 5577, 2778, 5575, 408, 5573, 5576...</td>\n",
       "    </tr>\n",
       "  </tbody>\n",
       "</table>\n",
       "</div>"
      ],
      "text/plain": [
       "                  identifier                     name  \\\n",
       "382    BIOCARTA_41BB_PATHWAY    BIOCARTA_41BB_PATHWAY   \n",
       "199    BIOCARTA_ACE2_PATHWAY    BIOCARTA_ACE2_PATHWAY   \n",
       "356     BIOCARTA_ACH_PATHWAY     BIOCARTA_ACH_PATHWAY   \n",
       "402  BIOCARTA_ACTINY_PATHWAY  BIOCARTA_ACTINY_PATHWAY   \n",
       "205   BIOCARTA_AGPCR_PATHWAY   BIOCARTA_AGPCR_PATHWAY   \n",
       "\n",
       "                                                   url  n_genes  \\\n",
       "382  http://www.broadinstitute.org/gsea/msigdb/card...       17   \n",
       "199  http://www.broadinstitute.org/gsea/msigdb/card...       13   \n",
       "356  http://www.broadinstitute.org/gsea/msigdb/card...       16   \n",
       "402  http://www.broadinstitute.org/gsea/msigdb/card...       20   \n",
       "205  http://www.broadinstitute.org/gsea/msigdb/card...       13   \n",
       "\n",
       "     n_coding_genes  source  \\\n",
       "382              17  msigdb   \n",
       "199              13  msigdb   \n",
       "356              16  msigdb   \n",
       "402              20  msigdb   \n",
       "205              13  msigdb   \n",
       "\n",
       "                                               license  \\\n",
       "382  http://www.broadinstitute.org/cancer/software/...   \n",
       "199  http://www.broadinstitute.org/cancer/software/...   \n",
       "356  http://www.broadinstitute.org/cancer/software/...   \n",
       "402  http://www.broadinstitute.org/cancer/software/...   \n",
       "205  http://www.broadinstitute.org/cancer/software/...   \n",
       "\n",
       "                                                 genes  \\\n",
       "382  (11183, 5599, 3458, 1147, 3558, 4214, 3725, 35...   \n",
       "199  (1284, 1286, 1215, 1287, 59272, 185, 5972, 163...   \n",
       "356  (4593, 356, 572, 5290, 207, 5294, 6714, 5913, ...   \n",
       "402  (10096, 10093, 10109, 58, 8936, 10097, 10787, ...   \n",
       "205  (2782, 2792, 5577, 5575, 2778, 408, 5573, 5576...   \n",
       "\n",
       "                                          coding_genes  \n",
       "382  (4217, 1432, 3604, 11183, 5599, 3458, 4792, 11...  \n",
       "199  (1284, 1282, 1215, 1287, 59272, 185, 5972, 163...  \n",
       "356  (4593, 2185, 5295, 5747, 356, 572, 5290, 1146,...  \n",
       "402  (10810, 10096, 10093, 10109, 58, 5688, 8936, 1...  \n",
       "205  (2782, 2792, 5577, 2778, 5575, 408, 5573, 5576...  "
      ]
     },
     "execution_count": 20,
     "metadata": {},
     "output_type": "execute_result"
    }
   ],
   "source": [
    "pathway_df = pathway_df.sort_values('identifier')\n",
    "pathway_df.head()"
   ]
  },
  {
   "cell_type": "code",
   "execution_count": 21,
   "metadata": {
    "collapsed": false
   },
   "outputs": [],
   "source": [
    "# Create a dataframe for writing as a tsv. Multi-element fields are pipe delimited.\n",
    "write_df = pathway_df.copy()\n",
    "join = lambda x: '|'.join(map(str, x))\n",
    "for column in 'genes', 'coding_genes':\n",
    "    write_df[column] = write_df[column].map(join)\n",
    "\n",
    "write_df.to_csv('data/pathways.tsv', index=False, sep='\\t')"
   ]
  }
 ],
 "metadata": {
  "kernelspec": {
   "display_name": "Python 3",
   "language": "python",
   "name": "python3"
  },
  "language_info": {
   "codemirror_mode": {
    "name": "ipython",
    "version": 3
   },
   "file_extension": ".py",
   "mimetype": "text/x-python",
   "name": "python",
   "nbconvert_exporter": "python",
   "pygments_lexer": "ipython3",
   "version": "3.5.1"
  }
 },
 "nbformat": 4,
 "nbformat_minor": 0
}
