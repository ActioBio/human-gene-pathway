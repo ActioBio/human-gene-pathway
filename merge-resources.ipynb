{
 "cells": [
  {
   "cell_type": "code",
   "execution_count": 1,
   "metadata": {
    "collapsed": true
   },
   "outputs": [],
   "source": [
    "import csv\n",
    "\n",
    "import pandas\n",
    "import numpy\n",
    "import seaborn\n",
    "import matplotlib.pyplot as plt\n",
    "\n",
    "%matplotlib inline"
   ]
  },
  {
   "cell_type": "markdown",
   "metadata": {},
   "source": [
    "## Read entrez gene"
   ]
  },
  {
   "cell_type": "code",
   "execution_count": 2,
   "metadata": {
    "collapsed": true
   },
   "outputs": [],
   "source": [
    "# read entrez genes\n",
    "url = 'https://raw.githubusercontent.com/dhimmel/entrez-gene/6e133f9ef8ce51a4c5387e58a6cc97564a66cec8/data/genes-human.tsv'\n",
    "entrez_df = pandas.read_table(url, dtype={'GeneID': str})\n",
    "human_genes = set(entrez_df.GeneID)\n",
    "human_coding_genes = set(entrez_df[entrez_df.type_of_gene == 'protein-coding'].GeneID)"
   ]
  },
  {
   "cell_type": "markdown",
   "metadata": {},
   "source": [
    "## GMT functions"
   ]
  },
  {
   "cell_type": "code",
   "execution_count": 3,
   "metadata": {
    "collapsed": false
   },
   "outputs": [],
   "source": [
    "def read_gmt(path):\n",
    "    read_file = open(path)\n",
    "    reader = csv.reader(read_file, delimiter='\\t')\n",
    "    for row in reader:\n",
    "        name = row[0]\n",
    "        description = row[1]\n",
    "        genes = set(row[2:])\n",
    "        yield name, description, genes\n",
    "    read_file.close()"
   ]
  },
  {
   "cell_type": "markdown",
   "metadata": {},
   "source": [
    "## Resource downloads"
   ]
  },
  {
   "cell_type": "code",
   "execution_count": 4,
   "metadata": {
    "collapsed": false
   },
   "outputs": [],
   "source": [
    "%%capture\n",
    "\n",
    "# download wikipathways\n",
    "url = 'http://www.pathvisio.org/data/bots/gmt/wikipathways.gmt'\n",
    "! wget --timestamping --directory-prefix=download $url\n",
    "\n",
    "# download MSigDB 5.0 pathways\n",
    "url = 'https://www.broadinstitute.org/gsea/resources/msigdb/5.0/c2.cp.v5.0.entrez.gmt'\n",
    "! wget --timestamping --directory-prefix=download $url"
   ]
  },
  {
   "cell_type": "markdown",
   "metadata": {},
   "source": [
    "## Parse WikiPathways"
   ]
  },
  {
   "cell_type": "code",
   "execution_count": 5,
   "metadata": {
    "collapsed": false
   },
   "outputs": [
    {
     "data": {
      "text/plain": [
       "669"
      ]
     },
     "execution_count": 5,
     "metadata": {},
     "output_type": "execute_result"
    }
   ],
   "source": [
    "gmt_generator = read_gmt('download/wikipathways.gmt')\n",
    "wikipath_df = pandas.DataFrame(gmt_generator, columns = ['name', 'description', 'genes'])\n",
    "len(wikipath_df)"
   ]
  },
  {
   "cell_type": "code",
   "execution_count": 6,
   "metadata": {
    "collapsed": false
   },
   "outputs": [
    {
     "data": {
      "text/plain": [
       "187"
      ]
     },
     "execution_count": 6,
     "metadata": {},
     "output_type": "execute_result"
    }
   ],
   "source": [
    "# Remove genes absent from our entrez gene version\n",
    "for genes in wikipath_df.genes:\n",
    "    genes &= human_genes\n",
    "wikipath_df = wikipath_df[wikipath_df.genes.map(bool)]\n",
    "len(wikipath_df)"
   ]
  },
  {
   "cell_type": "code",
   "execution_count": 7,
   "metadata": {
    "collapsed": false
   },
   "outputs": [
    {
     "data": {
      "text/html": [
       "<div>\n",
       "<table border=\"1\" class=\"dataframe\">\n",
       "  <thead>\n",
       "    <tr style=\"text-align: right;\">\n",
       "      <th></th>\n",
       "      <th>name</th>\n",
       "      <th>description</th>\n",
       "      <th>genes</th>\n",
       "    </tr>\n",
       "  </thead>\n",
       "  <tbody>\n",
       "    <tr>\n",
       "      <th>92</th>\n",
       "      <td>Interleukin-11 Signaling Pathway(Homo sapiens)</td>\n",
       "      <td>http://wikipathways.org/instance/WP2332</td>\n",
       "      <td>set([6774, 1147, 3572, 6714, 3717, 5296, 3383,...</td>\n",
       "    </tr>\n",
       "    <tr>\n",
       "      <th>93</th>\n",
       "      <td>NAD Biosynthesis II (from tryptophan)(Homo sap...</td>\n",
       "      <td>http://wikipathways.org/instance/WP2485</td>\n",
       "      <td>set([64802, 23498, 8564, 23475, 55191, 6999, 1...</td>\n",
       "    </tr>\n",
       "    <tr>\n",
       "      <th>94</th>\n",
       "      <td>AGE/RAGE pathway(Homo sapiens)</td>\n",
       "      <td>http://wikipathways.org/instance/WP2324</td>\n",
       "      <td>set([6774, 1147, 5590, 4088, 6714, 1432, 4481,...</td>\n",
       "    </tr>\n",
       "    <tr>\n",
       "      <th>95</th>\n",
       "      <td>FSH signaling pathway(Homo sapiens)</td>\n",
       "      <td>http://wikipathways.org/instance/WP2035</td>\n",
       "      <td>set([1588, 6714, 1432, 5578, 5595, 374, 6446, ...</td>\n",
       "    </tr>\n",
       "    <tr>\n",
       "      <th>96</th>\n",
       "      <td>Differentiation Pathway(Homo sapiens)</td>\n",
       "      <td>http://wikipathways.org/instance/WP2848</td>\n",
       "      <td>set([7422, 89780, 10468, 3082, 9241, 2323, 515...</td>\n",
       "    </tr>\n",
       "  </tbody>\n",
       "</table>\n",
       "</div>"
      ],
      "text/plain": [
       "                                                 name  \\\n",
       "92     Interleukin-11 Signaling Pathway(Homo sapiens)   \n",
       "93  NAD Biosynthesis II (from tryptophan)(Homo sap...   \n",
       "94                     AGE/RAGE pathway(Homo sapiens)   \n",
       "95                FSH signaling pathway(Homo sapiens)   \n",
       "96              Differentiation Pathway(Homo sapiens)   \n",
       "\n",
       "                                description  \\\n",
       "92  http://wikipathways.org/instance/WP2332   \n",
       "93  http://wikipathways.org/instance/WP2485   \n",
       "94  http://wikipathways.org/instance/WP2324   \n",
       "95  http://wikipathways.org/instance/WP2035   \n",
       "96  http://wikipathways.org/instance/WP2848   \n",
       "\n",
       "                                                genes  \n",
       "92  set([6774, 1147, 3572, 6714, 3717, 5296, 3383,...  \n",
       "93  set([64802, 23498, 8564, 23475, 55191, 6999, 1...  \n",
       "94  set([6774, 1147, 5590, 4088, 6714, 1432, 4481,...  \n",
       "95  set([1588, 6714, 1432, 5578, 5595, 374, 6446, ...  \n",
       "96  set([7422, 89780, 10468, 3082, 9241, 2323, 515...  "
      ]
     },
     "execution_count": 7,
     "metadata": {},
     "output_type": "execute_result"
    }
   ],
   "source": [
    "wikipath_df.head()"
   ]
  },
  {
   "cell_type": "code",
   "execution_count": 8,
   "metadata": {
    "collapsed": false
   },
   "outputs": [
    {
     "data": {
      "image/png": "[encoded data removed]",
      "text/plain": [
       "<matplotlib.figure.Figure at 0x7f257db3bc88>"
      ]
     },
     "metadata": {},
     "output_type": "display_data"
    }
   ],
   "source": [
    "# Density plot of genes per pathway\n",
    "seaborn.kdeplot(wikipath_df.genes.map(len), shade=True, );"
   ]
  },
  {
   "cell_type": "code",
   "execution_count": 9,
   "metadata": {
    "collapsed": false
   },
   "outputs": [
    {
     "data": {
      "image/png": "[encoded data removed]",
      "text/plain": [
       "<matplotlib.figure.Figure at 0x7f25b077da20>"
      ]
     },
     "metadata": {},
     "output_type": "display_data"
    }
   ],
   "source": [
    "# Histogram of genes per pathway\n",
    "plt.hist(list(wikipath_df.genes.map(len)), numpy.arange(100));\n",
    "plt.xlim(0, 100);"
   ]
  },
  {
   "cell_type": "markdown",
   "metadata": {},
   "source": [
    "## Parse MSigDB Pathways"
   ]
  },
  {
   "cell_type": "code",
   "execution_count": 10,
   "metadata": {
    "collapsed": false
   },
   "outputs": [
    {
     "data": {
      "text/plain": [
       "1330"
      ]
     },
     "execution_count": 10,
     "metadata": {},
     "output_type": "execute_result"
    }
   ],
   "source": [
    "gmt_generator = read_gmt('download/c2.cp.v5.0.entrez.gmt')\n",
    "msigdb_df = pandas.DataFrame(gmt_generator, columns = ['name', 'description', 'genes'])\n",
    "len(msigdb_df)"
   ]
  },
  {
   "cell_type": "code",
   "execution_count": 11,
   "metadata": {
    "collapsed": false
   },
   "outputs": [
    {
     "data": {
      "text/plain": [
       "1330"
      ]
     },
     "execution_count": 11,
     "metadata": {},
     "output_type": "execute_result"
    }
   ],
   "source": [
    "# Remove genes absent from our entrez gene version\n",
    "for genes in msigdb_df.genes:\n",
    "    genes &= human_genes\n",
    "msigdb_df = msigdb_df[msigdb_df.genes.map(bool)]\n",
    "len(msigdb_df)"
   ]
  },
  {
   "cell_type": "code",
   "execution_count": 12,
   "metadata": {
    "collapsed": false
   },
   "outputs": [
    {
     "data": {
      "text/html": [
       "<div>\n",
       "<table border=\"1\" class=\"dataframe\">\n",
       "  <thead>\n",
       "    <tr style=\"text-align: right;\">\n",
       "      <th></th>\n",
       "      <th>name</th>\n",
       "      <th>description</th>\n",
       "      <th>genes</th>\n",
       "    </tr>\n",
       "  </thead>\n",
       "  <tbody>\n",
       "    <tr>\n",
       "      <th>0</th>\n",
       "      <td>KEGG_GLYCOLYSIS_GLUCONEOGENESIS</td>\n",
       "      <td>http://www.broadinstitute.org/gsea/msigdb/card...</td>\n",
       "      <td>set([2821, 5162, 2026, 130, 501, 126, 220, 523...</td>\n",
       "    </tr>\n",
       "    <tr>\n",
       "      <th>1</th>\n",
       "      <td>KEGG_CITRATE_CYCLE_TCA_CYCLE</td>\n",
       "      <td>http://www.broadinstitute.org/gsea/msigdb/card...</td>\n",
       "      <td>set([5162, 2271, 3419, 1431, 4967, 5161, 8803,...</td>\n",
       "    </tr>\n",
       "    <tr>\n",
       "      <th>2</th>\n",
       "      <td>KEGG_PENTOSE_PHOSPHATE_PATHWAY</td>\n",
       "      <td>http://www.broadinstitute.org/gsea/msigdb/card...</td>\n",
       "      <td>set([2821, 84076, 5634, 5236, 51071, 229, 7290...</td>\n",
       "    </tr>\n",
       "    <tr>\n",
       "      <th>3</th>\n",
       "      <td>KEGG_PENTOSE_AND_GLUCURONATE_INTERCONVERSIONS</td>\n",
       "      <td>http://www.broadinstitute.org/gsea/msigdb/card...</td>\n",
       "      <td>set([54657, 54490, 51181, 729020, 231, 10720, ...</td>\n",
       "    </tr>\n",
       "    <tr>\n",
       "      <th>4</th>\n",
       "      <td>KEGG_FRUCTOSE_AND_MANNOSE_METABOLISM</td>\n",
       "      <td>http://www.broadinstitute.org/gsea/msigdb/card...</td>\n",
       "      <td>set([5209, 5372, 229, 29085, 3099, 231, 197258...</td>\n",
       "    </tr>\n",
       "  </tbody>\n",
       "</table>\n",
       "</div>"
      ],
      "text/plain": [
       "                                            name  \\\n",
       "0                KEGG_GLYCOLYSIS_GLUCONEOGENESIS   \n",
       "1                   KEGG_CITRATE_CYCLE_TCA_CYCLE   \n",
       "2                 KEGG_PENTOSE_PHOSPHATE_PATHWAY   \n",
       "3  KEGG_PENTOSE_AND_GLUCURONATE_INTERCONVERSIONS   \n",
       "4           KEGG_FRUCTOSE_AND_MANNOSE_METABOLISM   \n",
       "\n",
       "                                         description  \\\n",
       "0  http://www.broadinstitute.org/gsea/msigdb/card...   \n",
       "1  http://www.broadinstitute.org/gsea/msigdb/card...   \n",
       "2  http://www.broadinstitute.org/gsea/msigdb/card...   \n",
       "3  http://www.broadinstitute.org/gsea/msigdb/card...   \n",
       "4  http://www.broadinstitute.org/gsea/msigdb/card...   \n",
       "\n",
       "                                               genes  \n",
       "0  set([2821, 5162, 2026, 130, 501, 126, 220, 523...  \n",
       "1  set([5162, 2271, 3419, 1431, 4967, 5161, 8803,...  \n",
       "2  set([2821, 84076, 5634, 5236, 51071, 229, 7290...  \n",
       "3  set([54657, 54490, 51181, 729020, 231, 10720, ...  \n",
       "4  set([5209, 5372, 229, 29085, 3099, 231, 197258...  "
      ]
     },
     "execution_count": 12,
     "metadata": {},
     "output_type": "execute_result"
    }
   ],
   "source": [
    "msigdb_df.head()"
   ]
  },
  {
   "cell_type": "code",
   "execution_count": 13,
   "metadata": {
    "collapsed": false
   },
   "outputs": [
    {
     "data": {
      "image/png": "[encoded data removed]",
      "text/plain": [
       "<matplotlib.figure.Figure at 0x7f257cff56d8>"
      ]
     },
     "metadata": {},
     "output_type": "display_data"
    }
   ],
   "source": [
    "# Density plot of genes per pathway\n",
    "seaborn.kdeplot(msigdb_df.genes.map(len), shade=True);"
   ]
  },
  {
   "cell_type": "code",
   "execution_count": 14,
   "metadata": {
    "collapsed": false
   },
   "outputs": [
    {
     "data": {
      "image/png": "[encoded data removed]",
      "text/plain": [
       "<matplotlib.figure.Figure at 0x7f257cfbe4a8>"
      ]
     },
     "metadata": {},
     "output_type": "display_data"
    }
   ],
   "source": [
    "# Histogram of genes per pathway\n",
    "plt.hist(msigdb_df.genes.map(len), numpy.arange(100));\n",
    "plt.xlim(0, 50);"
   ]
  },
  {
   "cell_type": "markdown",
   "metadata": {},
   "source": [
    "## Merge resources into a pathway dataframe"
   ]
  },
  {
   "cell_type": "code",
   "execution_count": 21,
   "metadata": {
    "collapsed": false
   },
   "outputs": [
    {
     "data": {
      "text/plain": [
       "1517"
      ]
     },
     "execution_count": 21,
     "metadata": {},
     "output_type": "execute_result"
    }
   ],
   "source": [
    "pathway_df = pandas.concat([\n",
    "    pandas.DataFrame({\n",
    "        'identifier': msigdb_df['name'],\n",
    "        'name': msigdb_df['name'],\n",
    "        'url': msigdb_df['description'],\n",
    "        'source': 'msigdb',\n",
    "        'genes': msigdb_df.genes}),\n",
    "\n",
    "    pandas.DataFrame({\n",
    "        'identifier': wikipath_df['description'].map(lambda x: x.rsplit('/', 1)[1]),\n",
    "        'name': wikipath_df['name'],\n",
    "        'url': wikipath_df['description'],\n",
    "        'source': 'wikipathways',\n",
    "        'genes': wikipath_df.genes\n",
    "    })\n",
    "])[['identifier', 'name', 'url', 'source', 'genes']]\n",
    "len(pathway_df)"
   ]
  },
  {
   "cell_type": "code",
   "execution_count": 22,
   "metadata": {
    "collapsed": false
   },
   "outputs": [
    {
     "data": {
      "text/plain": [
       "1516"
      ]
     },
     "execution_count": 22,
     "metadata": {},
     "output_type": "execute_result"
    }
   ],
   "source": [
    "# Remove duplicate pathways\n",
    "pathway_df.genes = pathway_df.genes.map(frozenset)\n",
    "pathway_df = pathway_df.drop_duplicates(['genes'])\n",
    "len(pathway_df)"
   ]
  },
  {
   "cell_type": "code",
   "execution_count": 23,
   "metadata": {
    "collapsed": false
   },
   "outputs": [],
   "source": [
    "pathway_df['coding_genes'] = pathway_df.genes.map(lambda x: x & human_coding_genes)"
   ]
  },
  {
   "cell_type": "code",
   "execution_count": 24,
   "metadata": {
    "collapsed": false
   },
   "outputs": [],
   "source": [
    "pathway_df.insert(3, 'n_genes', pathway_df.genes.map(len))\n",
    "pathway_df.insert(4, 'n_coding_genes', pathway_df.coding_genes.map(len)) "
   ]
  },
  {
   "cell_type": "code",
   "execution_count": 25,
   "metadata": {
    "collapsed": false
   },
   "outputs": [
    {
     "data": {
      "text/html": [
       "<div>\n",
       "<table border=\"1\" class=\"dataframe\">\n",
       "  <thead>\n",
       "    <tr style=\"text-align: right;\">\n",
       "      <th></th>\n",
       "      <th>identifier</th>\n",
       "      <th>name</th>\n",
       "      <th>url</th>\n",
       "      <th>n_genes</th>\n",
       "      <th>n_coding_genes</th>\n",
       "      <th>source</th>\n",
       "      <th>genes</th>\n",
       "      <th>coding_genes</th>\n",
       "    </tr>\n",
       "  </thead>\n",
       "  <tbody>\n",
       "    <tr>\n",
       "      <th>0</th>\n",
       "      <td>KEGG_GLYCOLYSIS_GLUCONEOGENESIS</td>\n",
       "      <td>KEGG_GLYCOLYSIS_GLUCONEOGENESIS</td>\n",
       "      <td>http://www.broadinstitute.org/gsea/msigdb/card...</td>\n",
       "      <td>62</td>\n",
       "      <td>62</td>\n",
       "      <td>msigdb</td>\n",
       "      <td>(2821, 5162, 2026, 130, 501, 126, 220, 5236, 2...</td>\n",
       "      <td>(2821, 5162, 2026, 130, 126, 501, 220, 5236, 2...</td>\n",
       "    </tr>\n",
       "    <tr>\n",
       "      <th>1</th>\n",
       "      <td>KEGG_CITRATE_CYCLE_TCA_CYCLE</td>\n",
       "      <td>KEGG_CITRATE_CYCLE_TCA_CYCLE</td>\n",
       "      <td>http://www.broadinstitute.org/gsea/msigdb/card...</td>\n",
       "      <td>32</td>\n",
       "      <td>30</td>\n",
       "      <td>msigdb</td>\n",
       "      <td>(5162, 2271, 3419, 1431, 4967, 5161, 8803, 639...</td>\n",
       "      <td>(5162, 2271, 3419, 1431, 4967, 5161, 8803, 639...</td>\n",
       "    </tr>\n",
       "    <tr>\n",
       "      <th>2</th>\n",
       "      <td>KEGG_PENTOSE_PHOSPHATE_PATHWAY</td>\n",
       "      <td>KEGG_PENTOSE_PHOSPHATE_PATHWAY</td>\n",
       "      <td>http://www.broadinstitute.org/gsea/msigdb/card...</td>\n",
       "      <td>27</td>\n",
       "      <td>27</td>\n",
       "      <td>msigdb</td>\n",
       "      <td>(2821, 22934, 8789, 84076, 5634, 5236, 226, 51...</td>\n",
       "      <td>(2821, 84076, 5634, 5236, 51071, 229, 729020, ...</td>\n",
       "    </tr>\n",
       "    <tr>\n",
       "      <th>3</th>\n",
       "      <td>KEGG_PENTOSE_AND_GLUCURONATE_INTERCONVERSIONS</td>\n",
       "      <td>KEGG_PENTOSE_AND_GLUCURONATE_INTERCONVERSIONS</td>\n",
       "      <td>http://www.broadinstitute.org/gsea/msigdb/card...</td>\n",
       "      <td>28</td>\n",
       "      <td>28</td>\n",
       "      <td>msigdb</td>\n",
       "      <td>(54576, 7360, 7366, 54578, 54657, 51084, 54490...</td>\n",
       "      <td>(54657, 54490, 51181, 729020, 231, 10720, 5457...</td>\n",
       "    </tr>\n",
       "    <tr>\n",
       "      <th>4</th>\n",
       "      <td>KEGG_FRUCTOSE_AND_MANNOSE_METABOLISM</td>\n",
       "      <td>KEGG_FRUCTOSE_AND_MANNOSE_METABOLISM</td>\n",
       "      <td>http://www.broadinstitute.org/gsea/msigdb/card...</td>\n",
       "      <td>34</td>\n",
       "      <td>34</td>\n",
       "      <td>msigdb</td>\n",
       "      <td>(5209, 5372, 229, 29085, 3099, 231, 197258, 71...</td>\n",
       "      <td>(5209, 5372, 229, 29085, 3099, 231, 197258, 71...</td>\n",
       "    </tr>\n",
       "  </tbody>\n",
       "</table>\n",
       "</div>"
      ],
      "text/plain": [
       "                                      identifier  \\\n",
       "0                KEGG_GLYCOLYSIS_GLUCONEOGENESIS   \n",
       "1                   KEGG_CITRATE_CYCLE_TCA_CYCLE   \n",
       "2                 KEGG_PENTOSE_PHOSPHATE_PATHWAY   \n",
       "3  KEGG_PENTOSE_AND_GLUCURONATE_INTERCONVERSIONS   \n",
       "4           KEGG_FRUCTOSE_AND_MANNOSE_METABOLISM   \n",
       "\n",
       "                                            name  \\\n",
       "0                KEGG_GLYCOLYSIS_GLUCONEOGENESIS   \n",
       "1                   KEGG_CITRATE_CYCLE_TCA_CYCLE   \n",
       "2                 KEGG_PENTOSE_PHOSPHATE_PATHWAY   \n",
       "3  KEGG_PENTOSE_AND_GLUCURONATE_INTERCONVERSIONS   \n",
       "4           KEGG_FRUCTOSE_AND_MANNOSE_METABOLISM   \n",
       "\n",
       "                                                 url  n_genes  n_coding_genes  \\\n",
       "0  http://www.broadinstitute.org/gsea/msigdb/card...       62              62   \n",
       "1  http://www.broadinstitute.org/gsea/msigdb/card...       32              30   \n",
       "2  http://www.broadinstitute.org/gsea/msigdb/card...       27              27   \n",
       "3  http://www.broadinstitute.org/gsea/msigdb/card...       28              28   \n",
       "4  http://www.broadinstitute.org/gsea/msigdb/card...       34              34   \n",
       "\n",
       "   source                                              genes  \\\n",
       "0  msigdb  (2821, 5162, 2026, 130, 501, 126, 220, 5236, 2...   \n",
       "1  msigdb  (5162, 2271, 3419, 1431, 4967, 5161, 8803, 639...   \n",
       "2  msigdb  (2821, 22934, 8789, 84076, 5634, 5236, 226, 51...   \n",
       "3  msigdb  (54576, 7360, 7366, 54578, 54657, 51084, 54490...   \n",
       "4  msigdb  (5209, 5372, 229, 29085, 3099, 231, 197258, 71...   \n",
       "\n",
       "                                        coding_genes  \n",
       "0  (2821, 5162, 2026, 130, 126, 501, 220, 5236, 2...  \n",
       "1  (5162, 2271, 3419, 1431, 4967, 5161, 8803, 639...  \n",
       "2  (2821, 84076, 5634, 5236, 51071, 229, 729020, ...  \n",
       "3  (54657, 54490, 51181, 729020, 231, 10720, 5457...  \n",
       "4  (5209, 5372, 229, 29085, 3099, 231, 197258, 71...  "
      ]
     },
     "execution_count": 25,
     "metadata": {},
     "output_type": "execute_result"
    }
   ],
   "source": [
    "pathway_df.head()"
   ]
  },
  {
   "cell_type": "code",
   "execution_count": 26,
   "metadata": {
    "collapsed": false
   },
   "outputs": [],
   "source": [
    "# Create a dataframe for writing as a tsv. Multi-element fields are pipe delimited.\n",
    "write_df = pathway_df.copy()\n",
    "join = lambda x: '|'.join(map(str, x))\n",
    "for column in 'genes', 'coding_genes':\n",
    "    write_df[column] = write_df[column].map(join)\n",
    "\n",
    "write_df.to_csv('data/pathways.tsv', index=False, sep='\\t')"
   ]
  },
  {
   "cell_type": "code",
   "execution_count": null,
   "metadata": {
    "collapsed": true
   },
   "outputs": [],
   "source": []
  }
 ],
 "metadata": {
  "kernelspec": {
   "display_name": "Python 3",
   "language": "python",
   "name": "python3"
  },
  "language_info": {
   "codemirror_mode": {
    "name": "ipython",
    "version": 3
   },
   "file_extension": ".py",
   "mimetype": "text/x-python",
   "name": "python",
   "nbconvert_exporter": "python",
   "pygments_lexer": "ipython3",
   "version": "3.4.3"
  }
 },
 "nbformat": 4,
 "nbformat_minor": 0
}
