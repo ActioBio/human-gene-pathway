{
 "cells": [
  {
   "cell_type": "code",
   "execution_count": 1,
   "metadata": {
    "collapsed": false
   },
   "outputs": [],
   "source": [
    "import csv\n",
    "import collections\n",
    "import re\n",
    "import html.parser\n",
    "import json\n",
    "\n",
    "import requests\n",
    "import pandas\n",
    "import numpy\n",
    "import seaborn\n",
    "import matplotlib.pyplot as plt\n",
    "\n",
    "%matplotlib inline"
   ]
  },
  {
   "cell_type": "markdown",
   "metadata": {},
   "source": [
    "## Read entrez gene"
   ]
  },
  {
   "cell_type": "code",
   "execution_count": 2,
   "metadata": {
    "collapsed": true
   },
   "outputs": [],
   "source": [
    "# read entrez genes\n",
    "url = 'https://raw.githubusercontent.com/dhimmel/entrez-gene/a7362748a34211e5df6f2d185bb3246279760546/data/genes-human.tsv'\n",
    "entrez_df = pandas.read_table(url, dtype={'GeneID': str})\n",
    "human_genes = set(entrez_df.GeneID)\n",
    "human_coding_genes = set(entrez_df[entrez_df.type_of_gene == 'protein-coding'].GeneID)"
   ]
  },
  {
   "cell_type": "code",
   "execution_count": 3,
   "metadata": {
    "collapsed": false
   },
   "outputs": [],
   "source": [
    "url = 'https://raw.githubusercontent.com/dhimmel/entrez-gene/a7362748a34211e5df6f2d185bb3246279760546/data/symbol-map.json'\n",
    "symbol_to_entrez = json.loads(requests.get(url).text)\n",
    "symbol_to_entrez = {k: str(v) for k, v in symbol_to_entrez.items()}"
   ]
  },
  {
   "cell_type": "markdown",
   "metadata": {},
   "source": [
    "## GMT functions"
   ]
  },
  {
   "cell_type": "code",
   "execution_count": 4,
   "metadata": {
    "collapsed": false
   },
   "outputs": [],
   "source": [
    "def read_gmt(path):\n",
    "    read_file = open(path)\n",
    "    reader = csv.reader(read_file, delimiter='\\t')\n",
    "    for row in reader:\n",
    "        if not row:\n",
    "            continue\n",
    "        name = row[0]\n",
    "        description = row[1]\n",
    "        genes = set(row[2:])\n",
    "        yield name, description, genes\n",
    "    read_file.close()"
   ]
  },
  {
   "cell_type": "markdown",
   "metadata": {},
   "source": [
    "## Resource downloads"
   ]
  },
  {
   "cell_type": "code",
   "execution_count": 5,
   "metadata": {
    "collapsed": false
   },
   "outputs": [
    {
     "name": "stdout",
     "output_type": "stream",
     "text": [
      "2016-04-02 14:43:35 URL:http://www.pathwaycommons.org/pc2/downloads/Pathway%20Commons.7.All.GSEA.hgnc.gmt.gz [497424/497424] -> \"download/Pathway Commons.7.All.GSEA.hgnc.gmt.gz\" [1]\r\n"
     ]
    }
   ],
   "source": [
    "# download WikiPathways\n",
    "url = 'http://www.pathvisio.org/data/bots/gmt/wikipathways.gmt'\n",
    "! wget --timestamping --no-verbose --directory-prefix=download $url\n",
    "\n",
    "# download Pathway Commons v7\n",
    "url = 'http://www.pathwaycommons.org/pc2/downloads/Pathway%20Commons.7.All.GSEA.hgnc.gmt.gz'\n",
    "! wget --timestamping --no-verbose --directory-prefix=download $url\n",
    "! gunzip --force \"download/Pathway Commons.7.All.GSEA.hgnc.gmt.gz\""
   ]
  },
  {
   "cell_type": "markdown",
   "metadata": {},
   "source": [
    "## Parse Pathway Commons"
   ]
  },
  {
   "cell_type": "code",
   "execution_count": 6,
   "metadata": {
    "collapsed": false
   },
   "outputs": [
    {
     "data": {
      "text/html": [
       "<div>\n",
       "<table border=\"1\" class=\"dataframe\">\n",
       "  <thead>\n",
       "    <tr style=\"text-align: right;\">\n",
       "      <th></th>\n",
       "      <th>identifier</th>\n",
       "      <th>name</th>\n",
       "      <th>source</th>\n",
       "      <th>genes</th>\n",
       "    </tr>\n",
       "  </thead>\n",
       "  <tbody>\n",
       "    <tr>\n",
       "      <th>0</th>\n",
       "      <td>PC7_1</td>\n",
       "      <td>5-Hydroxytryptamine biosynthesis</td>\n",
       "      <td>panther</td>\n",
       "      <td>{7166, 121278, 1644}</td>\n",
       "    </tr>\n",
       "    <tr>\n",
       "      <th>1</th>\n",
       "      <td>PC7_2</td>\n",
       "      <td>5-Hydroxytryptamine degredation</td>\n",
       "      <td>panther</td>\n",
       "      <td>{224, 4128, 4129, 218, 8854}</td>\n",
       "    </tr>\n",
       "  </tbody>\n",
       "</table>\n",
       "</div>"
      ],
      "text/plain": [
       "  identifier                              name   source  \\\n",
       "0      PC7_1  5-Hydroxytryptamine biosynthesis  panther   \n",
       "1      PC7_2   5-Hydroxytryptamine degredation  panther   \n",
       "\n",
       "                          genes  \n",
       "0          {7166, 121278, 1644}  \n",
       "1  {224, 4128, 4129, 218, 8854}  "
      ]
     },
     "execution_count": 6,
     "metadata": {},
     "output_type": "execute_result"
    }
   ],
   "source": [
    "i = 0\n",
    "rows = list()\n",
    "PC_Row = collections.namedtuple('PC_Row', ['identifier', 'name', 'source', 'genes'])\n",
    "path = \"download/Pathway Commons.7.All.GSEA.hgnc.gmt\"\n",
    "for name, description, genes in read_gmt(path):\n",
    "    \n",
    "    # Process name\n",
    "    name = re.sub(r'^9606: +', '', name)\n",
    "    name = html.parser.unescape(name)\n",
    "    if name == 'Not pathway':\n",
    "        continue\n",
    "    \n",
    "    # Process description\n",
    "    description = dict(item.split(': ') for item in description.split('; '))\n",
    "    if description['organism'] != '9606':\n",
    "        continue\n",
    "    \n",
    "    # Convert genes to Entrez\n",
    "    genes = {symbol_to_entrez.get(x) for x in genes}\n",
    "    genes.discard(None)\n",
    "    if not genes:\n",
    "        continue\n",
    "    \n",
    "    # Add pathway\n",
    "    i += 1    \n",
    "    row = PC_Row(\n",
    "        identifier = 'PC7_{}'.format(i),\n",
    "        name = name,\n",
    "        source = description['datasource'],\n",
    "        genes = genes,\n",
    "    )\n",
    "    rows.append(row)\n",
    "    \n",
    "pc_df = pandas.DataFrame(rows)\n",
    "pc_df.head(2)"
   ]
  },
  {
   "cell_type": "code",
   "execution_count": 7,
   "metadata": {
    "collapsed": false
   },
   "outputs": [
    {
     "data": {
      "text/plain": [
       "ctd           11006\n",
       "reactome       1566\n",
       "humancyc        285\n",
       "pid             223\n",
       "panther         148\n",
       "kegg             83\n",
       "mirtarbase        5\n",
       "recon x           1\n",
       "Name: source, dtype: int64"
      ]
     },
     "execution_count": 7,
     "metadata": {},
     "output_type": "execute_result"
    }
   ],
   "source": [
    "pc_df.source.value_counts()"
   ]
  },
  {
   "cell_type": "code",
   "execution_count": 8,
   "metadata": {
    "collapsed": false
   },
   "outputs": [
    {
     "data": {
      "text/plain": [
       "1789"
      ]
     },
     "execution_count": 8,
     "metadata": {},
     "output_type": "execute_result"
    }
   ],
   "source": [
    "# Filter by provider (source)\n",
    "keep = {'reactome', 'pid'}\n",
    "pc_df = pc_df.query(\"source in @keep\")\n",
    "len(pc_df)"
   ]
  },
  {
   "cell_type": "code",
   "execution_count": 9,
   "metadata": {
    "collapsed": false
   },
   "outputs": [
    {
     "data": {
      "text/html": [
       "<div>\n",
       "<table border=\"1\" class=\"dataframe\">\n",
       "  <thead>\n",
       "    <tr style=\"text-align: right;\">\n",
       "      <th></th>\n",
       "      <th>identifier</th>\n",
       "      <th>name</th>\n",
       "      <th>source</th>\n",
       "      <th>genes</th>\n",
       "      <th>license</th>\n",
       "    </tr>\n",
       "  </thead>\n",
       "  <tbody>\n",
       "    <tr>\n",
       "      <th>609</th>\n",
       "      <td>PC7_610</td>\n",
       "      <td>2-LTR circle formation</td>\n",
       "      <td>reactome</td>\n",
       "      <td>{3159, 7518, 3981, 7520, 2547, 11168, 8815}</td>\n",
       "      <td>CC BY 4.0</td>\n",
       "    </tr>\n",
       "    <tr>\n",
       "      <th>684</th>\n",
       "      <td>PC7_685</td>\n",
       "      <td>3' -UTR-mediated translational regulation</td>\n",
       "      <td>reactome</td>\n",
       "      <td>{6218, 6205, 6129, 6122, 1973, 6126, 6229, 273...</td>\n",
       "      <td>CC BY 4.0</td>\n",
       "    </tr>\n",
       "  </tbody>\n",
       "</table>\n",
       "</div>"
      ],
      "text/plain": [
       "    identifier                                       name    source  \\\n",
       "609    PC7_610                     2-LTR circle formation  reactome   \n",
       "684    PC7_685  3' -UTR-mediated translational regulation  reactome   \n",
       "\n",
       "                                                 genes    license  \n",
       "609        {3159, 7518, 3981, 7520, 2547, 11168, 8815}  CC BY 4.0  \n",
       "684  {6218, 6205, 6129, 6122, 1973, 6126, 6229, 273...  CC BY 4.0  "
      ]
     },
     "execution_count": 9,
     "metadata": {},
     "output_type": "execute_result"
    }
   ],
   "source": [
    "source_to_license = {\n",
    "    'reactome': 'CC BY 4.0',\n",
    "    'pid': 'CC0 1.0',\n",
    "}\n",
    "pc_df['license'] = pc_df['source'].map(source_to_license)\n",
    "pc_df.head(2)"
   ]
  },
  {
   "cell_type": "code",
   "execution_count": 10,
   "metadata": {
    "collapsed": false
   },
   "outputs": [
    {
     "data": {
      "image/png": "[encoded data removed]",
      "text/plain": [
       "<matplotlib.figure.Figure at 0x7f9a00737860>"
      ]
     },
     "metadata": {},
     "output_type": "display_data"
    }
   ],
   "source": [
    "# Density plot of genes per pathway\n",
    "seaborn.kdeplot(pc_df.genes.map(len), shade=True);"
   ]
  },
  {
   "cell_type": "code",
   "execution_count": 11,
   "metadata": {
    "collapsed": false
   },
   "outputs": [
    {
     "data": {
      "image/png": "[encoded data removed]",
      "text/plain": [
       "<matplotlib.figure.Figure at 0x7f99fe1727f0>"
      ]
     },
     "metadata": {},
     "output_type": "display_data"
    }
   ],
   "source": [
    "# Histogram of genes per pathway\n",
    "plt.hist(pc_df.genes.map(len), numpy.arange(100));\n",
    "plt.xlim(0, 100);"
   ]
  },
  {
   "cell_type": "markdown",
   "metadata": {},
   "source": [
    "## Parse WikiPathways"
   ]
  },
  {
   "cell_type": "code",
   "execution_count": 12,
   "metadata": {
    "collapsed": false
   },
   "outputs": [
    {
     "data": {
      "text/plain": [
       "1317"
      ]
     },
     "execution_count": 12,
     "metadata": {},
     "output_type": "execute_result"
    }
   ],
   "source": [
    "gmt_generator = read_gmt('download/wikipathways.gmt')\n",
    "wikipath_df = pandas.DataFrame(gmt_generator, columns = ['name', 'description', 'genes'])\n",
    "wikipath_df.name = wikipath_df.name.map(lambda x: x.split('%')[0])\n",
    "len(wikipath_df)"
   ]
  },
  {
   "cell_type": "code",
   "execution_count": 13,
   "metadata": {
    "collapsed": false
   },
   "outputs": [
    {
     "data": {
      "text/plain": [
       "299"
      ]
     },
     "execution_count": 13,
     "metadata": {},
     "output_type": "execute_result"
    }
   ],
   "source": [
    "# Remove genes absent from our entrez gene version\n",
    "for genes in wikipath_df.genes:\n",
    "    genes &= human_genes\n",
    "wikipath_df = wikipath_df[wikipath_df.genes.map(bool)]\n",
    "len(wikipath_df)"
   ]
  },
  {
   "cell_type": "code",
   "execution_count": 14,
   "metadata": {
    "collapsed": false
   },
   "outputs": [
    {
     "data": {
      "text/html": [
       "<div>\n",
       "<table border=\"1\" class=\"dataframe\">\n",
       "  <thead>\n",
       "    <tr style=\"text-align: right;\">\n",
       "      <th></th>\n",
       "      <th>name</th>\n",
       "      <th>description</th>\n",
       "      <th>genes</th>\n",
       "    </tr>\n",
       "  </thead>\n",
       "  <tbody>\n",
       "    <tr>\n",
       "      <th>850</th>\n",
       "      <td>Tryptophan metabolism</td>\n",
       "      <td>http://www.wikipathways.org/instance/WP465_r79226</td>\n",
       "      <td>{38, 3620, 1644, 3033, 3028, 8854, 1892, 6999,...</td>\n",
       "    </tr>\n",
       "    <tr>\n",
       "      <th>851</th>\n",
       "      <td>Steroid Biosynthesis</td>\n",
       "      <td>http://www.wikipathways.org/instance/WP496_r69016</td>\n",
       "      <td>{3295, 3294, 3284, 3292, 1586, 3283, 1369, 216...</td>\n",
       "    </tr>\n",
       "  </tbody>\n",
       "</table>\n",
       "</div>"
      ],
      "text/plain": [
       "                      name                                        description  \\\n",
       "850  Tryptophan metabolism  http://www.wikipathways.org/instance/WP465_r79226   \n",
       "851   Steroid Biosynthesis  http://www.wikipathways.org/instance/WP496_r69016   \n",
       "\n",
       "                                                 genes  \n",
       "850  {38, 3620, 1644, 3033, 3028, 8854, 1892, 6999,...  \n",
       "851  {3295, 3294, 3284, 3292, 1586, 3283, 1369, 216...  "
      ]
     },
     "execution_count": 14,
     "metadata": {},
     "output_type": "execute_result"
    }
   ],
   "source": [
    "wikipath_df.head(2)"
   ]
  },
  {
   "cell_type": "code",
   "execution_count": 15,
   "metadata": {
    "collapsed": false
   },
   "outputs": [
    {
     "data": {
      "image/png": "[encoded data removed]",
      "text/plain": [
       "<matplotlib.figure.Figure at 0x7f99fd0b2630>"
      ]
     },
     "metadata": {},
     "output_type": "display_data"
    }
   ],
   "source": [
    "# Density plot of genes per pathway\n",
    "seaborn.kdeplot(wikipath_df.genes.map(len), shade=True, );"
   ]
  },
  {
   "cell_type": "code",
   "execution_count": 16,
   "metadata": {
    "collapsed": false
   },
   "outputs": [
    {
     "data": {
      "image/png": "[encoded data removed]",
      "text/plain": [
       "<matplotlib.figure.Figure at 0x7f99fd40c518>"
      ]
     },
     "metadata": {},
     "output_type": "display_data"
    }
   ],
   "source": [
    "# Histogram of genes per pathway\n",
    "plt.hist(list(wikipath_df.genes.map(len)), numpy.arange(100));\n",
    "plt.xlim(0, 100);"
   ]
  },
  {
   "cell_type": "code",
   "execution_count": 17,
   "metadata": {
    "collapsed": false
   },
   "outputs": [
    {
     "data": {
      "text/html": [
       "<div>\n",
       "<table border=\"1\" class=\"dataframe\">\n",
       "  <thead>\n",
       "    <tr style=\"text-align: right;\">\n",
       "      <th></th>\n",
       "      <th>genes</th>\n",
       "      <th>identifier</th>\n",
       "      <th>license</th>\n",
       "      <th>name</th>\n",
       "      <th>source</th>\n",
       "      <th>url</th>\n",
       "    </tr>\n",
       "  </thead>\n",
       "  <tbody>\n",
       "    <tr>\n",
       "      <th>850</th>\n",
       "      <td>{38, 3620, 1644, 3033, 3028, 8854, 1892, 6999,...</td>\n",
       "      <td>WP465_r79226</td>\n",
       "      <td>CC BY 3.0</td>\n",
       "      <td>Tryptophan metabolism</td>\n",
       "      <td>wikipathways</td>\n",
       "      <td>http://www.wikipathways.org/instance/WP465_r79226</td>\n",
       "    </tr>\n",
       "    <tr>\n",
       "      <th>851</th>\n",
       "      <td>{3295, 3294, 3284, 3292, 1586, 3283, 1369, 216...</td>\n",
       "      <td>WP496_r69016</td>\n",
       "      <td>CC BY 3.0</td>\n",
       "      <td>Steroid Biosynthesis</td>\n",
       "      <td>wikipathways</td>\n",
       "      <td>http://www.wikipathways.org/instance/WP496_r69016</td>\n",
       "    </tr>\n",
       "  </tbody>\n",
       "</table>\n",
       "</div>"
      ],
      "text/plain": [
       "                                                 genes    identifier  \\\n",
       "850  {38, 3620, 1644, 3033, 3028, 8854, 1892, 6999,...  WP465_r79226   \n",
       "851  {3295, 3294, 3284, 3292, 1586, 3283, 1369, 216...  WP496_r69016   \n",
       "\n",
       "       license                   name        source  \\\n",
       "850  CC BY 3.0  Tryptophan metabolism  wikipathways   \n",
       "851  CC BY 3.0   Steroid Biosynthesis  wikipathways   \n",
       "\n",
       "                                                   url  \n",
       "850  http://www.wikipathways.org/instance/WP465_r79226  \n",
       "851  http://www.wikipathways.org/instance/WP496_r69016  "
      ]
     },
     "execution_count": 17,
     "metadata": {},
     "output_type": "execute_result"
    }
   ],
   "source": [
    "wikipath_df = pandas.DataFrame({\n",
    "    'identifier': wikipath_df['description'].map(lambda x: x.rsplit('/', 1)[1]),\n",
    "    'name': wikipath_df['name'],\n",
    "    'url': wikipath_df['description'],\n",
    "    'source': 'wikipathways',\n",
    "    'license': 'CC BY 3.0',\n",
    "    'genes': wikipath_df.genes\n",
    "})\n",
    "wikipath_df.head(2)"
   ]
  },
  {
   "cell_type": "markdown",
   "metadata": {},
   "source": [
    "## Merge resources into a pathway dataframe"
   ]
  },
  {
   "cell_type": "code",
   "execution_count": 18,
   "metadata": {
    "collapsed": false
   },
   "outputs": [
    {
     "data": {
      "text/plain": [
       "2088"
      ]
     },
     "execution_count": 18,
     "metadata": {},
     "output_type": "execute_result"
    }
   ],
   "source": [
    "pathway_df = pandas.concat([wikipath_df, pc_df])\n",
    "pathway_df = pathway_df[['identifier', 'name', 'url', 'source', 'license', 'genes']]\n",
    "len(pathway_df)"
   ]
  },
  {
   "cell_type": "code",
   "execution_count": 19,
   "metadata": {
    "collapsed": false
   },
   "outputs": [
    {
     "data": {
      "text/plain": [
       "1862"
      ]
     },
     "execution_count": 19,
     "metadata": {},
     "output_type": "execute_result"
    }
   ],
   "source": [
    "# Remove duplicate pathways\n",
    "pathway_df.genes = pathway_df.genes.map(frozenset)\n",
    "pathway_df = pathway_df.drop_duplicates(['genes'])\n",
    "len(pathway_df)"
   ]
  },
  {
   "cell_type": "code",
   "execution_count": 20,
   "metadata": {
    "collapsed": false
   },
   "outputs": [],
   "source": [
    "pathway_df['coding_genes'] = pathway_df.genes.map(lambda x: x & human_coding_genes)"
   ]
  },
  {
   "cell_type": "code",
   "execution_count": 21,
   "metadata": {
    "collapsed": false
   },
   "outputs": [],
   "source": [
    "pathway_df.insert(3, 'n_genes', pathway_df.genes.map(len))\n",
    "pathway_df.insert(4, 'n_coding_genes', pathway_df.coding_genes.map(len))"
   ]
  },
  {
   "cell_type": "code",
   "execution_count": 22,
   "metadata": {
    "collapsed": false
   },
   "outputs": [
    {
     "data": {
      "text/html": [
       "<div>\n",
       "<table border=\"1\" class=\"dataframe\">\n",
       "  <thead>\n",
       "    <tr style=\"text-align: right;\">\n",
       "      <th></th>\n",
       "      <th>identifier</th>\n",
       "      <th>name</th>\n",
       "      <th>url</th>\n",
       "      <th>n_genes</th>\n",
       "      <th>n_coding_genes</th>\n",
       "      <th>source</th>\n",
       "      <th>license</th>\n",
       "      <th>genes</th>\n",
       "      <th>coding_genes</th>\n",
       "    </tr>\n",
       "  </thead>\n",
       "  <tbody>\n",
       "    <tr>\n",
       "      <th>10398</th>\n",
       "      <td>PC7_10399</td>\n",
       "      <td>a4b7 Integrin signaling</td>\n",
       "      <td>NaN</td>\n",
       "      <td>8</td>\n",
       "      <td>8</td>\n",
       "      <td>pid</td>\n",
       "      <td>CC0 1.0</td>\n",
       "      <td>(5747, 3688, 3676, 387, 3695, 5829, 7412, 8174)</td>\n",
       "      <td>(5747, 3688, 3676, 387, 3695, 5829, 7412, 8174)</td>\n",
       "    </tr>\n",
       "    <tr>\n",
       "      <th>10399</th>\n",
       "      <td>PC7_10400</td>\n",
       "      <td>a6b1 and a6b4 Integrin signaling</td>\n",
       "      <td>NaN</td>\n",
       "      <td>45</td>\n",
       "      <td>45</td>\n",
       "      <td>pid</td>\n",
       "      <td>CC0 1.0</td>\n",
       "      <td>(3688, 7533, 3911, 6257, 207, 840, 6256, 5376,...</td>\n",
       "      <td>(3688, 7533, 3911, 6257, 207, 5376, 840, 6256,...</td>\n",
       "    </tr>\n",
       "    <tr>\n",
       "      <th>10441</th>\n",
       "      <td>PC7_10442</td>\n",
       "      <td>activated TAK1 mediates p38 MAPK activation</td>\n",
       "      <td>NaN</td>\n",
       "      <td>17</td>\n",
       "      <td>17</td>\n",
       "      <td>reactome</td>\n",
       "      <td>CC BY 4.0</td>\n",
       "      <td>(257397, 8767, 8517, 3654, 5608, 6885, 5600, 1...</td>\n",
       "      <td>(257397, 9261, 8767, 7189, 8517, 64127, 10454,...</td>\n",
       "    </tr>\n",
       "    <tr>\n",
       "      <th>10507</th>\n",
       "      <td>PC7_10508</td>\n",
       "      <td>alpha-linolenic (omega3) and linoleic (omega6)...</td>\n",
       "      <td>NaN</td>\n",
       "      <td>11</td>\n",
       "      <td>11</td>\n",
       "      <td>reactome</td>\n",
       "      <td>CC BY 4.0</td>\n",
       "      <td>(51, 6342, 3295, 10005, 54898, 60481, 30, 215,...</td>\n",
       "      <td>(51, 10005, 3295, 6342, 54898, 60481, 30, 215,...</td>\n",
       "    </tr>\n",
       "    <tr>\n",
       "      <th>10556</th>\n",
       "      <td>PC7_10557</td>\n",
       "      <td>amb2 Integrin signaling</td>\n",
       "      <td>NaN</td>\n",
       "      <td>32</td>\n",
       "      <td>32</td>\n",
       "      <td>pid</td>\n",
       "      <td>CC0 1.0</td>\n",
       "      <td>(4313, 1490, 3569, 3055, 4620, 58494, 6093, 43...</td>\n",
       "      <td>(4313, 1490, 3569, 3055, 4620, 58494, 6093, 43...</td>\n",
       "    </tr>\n",
       "  </tbody>\n",
       "</table>\n",
       "</div>"
      ],
      "text/plain": [
       "      identifier                                               name  url  \\\n",
       "10398  PC7_10399                            a4b7 Integrin signaling  NaN   \n",
       "10399  PC7_10400                   a6b1 and a6b4 Integrin signaling  NaN   \n",
       "10441  PC7_10442        activated TAK1 mediates p38 MAPK activation  NaN   \n",
       "10507  PC7_10508  alpha-linolenic (omega3) and linoleic (omega6)...  NaN   \n",
       "10556  PC7_10557                            amb2 Integrin signaling  NaN   \n",
       "\n",
       "       n_genes  n_coding_genes    source    license  \\\n",
       "10398        8               8       pid    CC0 1.0   \n",
       "10399       45              45       pid    CC0 1.0   \n",
       "10441       17              17  reactome  CC BY 4.0   \n",
       "10507       11              11  reactome  CC BY 4.0   \n",
       "10556       32              32       pid    CC0 1.0   \n",
       "\n",
       "                                                   genes  \\\n",
       "10398    (5747, 3688, 3676, 387, 3695, 5829, 7412, 8174)   \n",
       "10399  (3688, 7533, 3911, 6257, 207, 840, 6256, 5376,...   \n",
       "10441  (257397, 8767, 8517, 3654, 5608, 6885, 5600, 1...   \n",
       "10507  (51, 6342, 3295, 10005, 54898, 60481, 30, 215,...   \n",
       "10556  (4313, 1490, 3569, 3055, 4620, 58494, 6093, 43...   \n",
       "\n",
       "                                            coding_genes  \n",
       "10398    (5747, 3688, 3676, 387, 3695, 5829, 7412, 8174)  \n",
       "10399  (3688, 7533, 3911, 6257, 207, 5376, 840, 6256,...  \n",
       "10441  (257397, 9261, 8767, 7189, 8517, 64127, 10454,...  \n",
       "10507  (51, 10005, 3295, 6342, 54898, 60481, 30, 215,...  \n",
       "10556  (4313, 1490, 3569, 3055, 4620, 58494, 6093, 43...  "
      ]
     },
     "execution_count": 22,
     "metadata": {},
     "output_type": "execute_result"
    }
   ],
   "source": [
    "pathway_df = pathway_df.sort_values('identifier')\n",
    "pathway_df.head()"
   ]
  },
  {
   "cell_type": "code",
   "execution_count": 23,
   "metadata": {
    "collapsed": false
   },
   "outputs": [
    {
     "data": {
      "text/plain": [
       "reactome        1341\n",
       "wikipathways     298\n",
       "pid              223\n",
       "Name: source, dtype: int64"
      ]
     },
     "execution_count": 23,
     "metadata": {},
     "output_type": "execute_result"
    }
   ],
   "source": [
    "pathway_df.source.value_counts()"
   ]
  },
  {
   "cell_type": "code",
   "execution_count": 24,
   "metadata": {
    "collapsed": false
   },
   "outputs": [],
   "source": [
    "# Create a dataframe for writing as a tsv. Multi-element fields are pipe delimited.\n",
    "write_df = pathway_df.copy()\n",
    "join = lambda x: '|'.join(map(str, sorted(x)))\n",
    "for column in 'genes', 'coding_genes':\n",
    "    write_df[column] = write_df[column].map(join)\n",
    "\n",
    "write_df.to_csv('data/pathways.tsv', index=False, sep='\\t')"
   ]
  }
 ],
 "metadata": {
  "kernelspec": {
   "display_name": "Python 3",
   "language": "python",
   "name": "python3"
  },
  "language_info": {
   "codemirror_mode": {
    "name": "ipython",
    "version": 3
   },
   "file_extension": ".py",
   "mimetype": "text/x-python",
   "name": "python",
   "nbconvert_exporter": "python",
   "pygments_lexer": "ipython3",
   "version": "3.5.1"
  }
 },
 "nbformat": 4,
 "nbformat_minor": 0
}
