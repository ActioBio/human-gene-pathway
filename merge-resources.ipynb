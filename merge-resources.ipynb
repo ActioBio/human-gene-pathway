{
 "cells": [
  {
   "cell_type": "code",
   "execution_count": 1,
   "metadata": {
    "collapsed": true
   },
   "outputs": [],
   "source": [
    "import csv\n",
    "import collections\n",
    "\n",
    "import pandas\n",
    "import numpy\n",
    "import seaborn\n",
    "import matplotlib.pyplot as plt\n",
    "\n",
    "%matplotlib inline"
   ]
  },
  {
   "cell_type": "markdown",
   "metadata": {},
   "source": [
    "## Read entrez gene"
   ]
  },
  {
   "cell_type": "code",
   "execution_count": 2,
   "metadata": {
    "collapsed": true
   },
   "outputs": [],
   "source": [
    "# read entrez genes\n",
    "url = 'https://raw.githubusercontent.com/dhimmel/entrez-gene/5352b31e04ec136e99d25a0ba63e8867aa71b69f/data/genes-human.tsv'\n",
    "entrez_df = pandas.read_table(url, dtype={'GeneID': str})\n",
    "human_genes = set(entrez_df.GeneID)\n",
    "human_coding_genes = set(entrez_df[entrez_df.type_of_gene == 'protein-coding'].GeneID)"
   ]
  },
  {
   "cell_type": "markdown",
   "metadata": {},
   "source": [
    "## GMT functions"
   ]
  },
  {
   "cell_type": "code",
   "execution_count": 3,
   "metadata": {
    "collapsed": false
   },
   "outputs": [],
   "source": [
    "def read_gmt(path):\n",
    "    read_file = open(path)\n",
    "    reader = csv.reader(read_file, delimiter='\\t')\n",
    "    for row in reader:\n",
    "        name = row[0]\n",
    "        description = row[1]\n",
    "        genes = set(row[2:])\n",
    "        yield name, description, genes\n",
    "    read_file.close()"
   ]
  },
  {
   "cell_type": "markdown",
   "metadata": {},
   "source": [
    "## Resource downloads"
   ]
  },
  {
   "cell_type": "code",
   "execution_count": 4,
   "metadata": {
    "collapsed": false
   },
   "outputs": [],
   "source": [
    "%%capture\n",
    "\n",
    "# download wikipathways\n",
    "url = 'http://www.pathvisio.org/data/bots/gmt/wikipathways.gmt'\n",
    "! wget --timestamping --directory-prefix=download $url\n",
    "\n",
    "# download MSigDB 5.0 pathways\n",
    "url = 'https://www.broadinstitute.org/gsea/resources/msigdb/5.0/c2.cp.v5.0.entrez.gmt'\n",
    "! wget --timestamping --directory-prefix=download $url"
   ]
  },
  {
   "cell_type": "markdown",
   "metadata": {},
   "source": [
    "## Parse WikiPathways"
   ]
  },
  {
   "cell_type": "code",
   "execution_count": 5,
   "metadata": {
    "collapsed": false
   },
   "outputs": [
    {
     "data": {
      "text/plain": [
       "1302"
      ]
     },
     "execution_count": 5,
     "metadata": {},
     "output_type": "execute_result"
    }
   ],
   "source": [
    "gmt_generator = read_gmt('download/wikipathways.gmt')\n",
    "wikipath_df = pandas.DataFrame(gmt_generator, columns = ['name', 'description', 'genes'])\n",
    "len(wikipath_df)"
   ]
  },
  {
   "cell_type": "code",
   "execution_count": 6,
   "metadata": {
    "collapsed": false
   },
   "outputs": [
    {
     "data": {
      "text/plain": [
       "289"
      ]
     },
     "execution_count": 6,
     "metadata": {},
     "output_type": "execute_result"
    }
   ],
   "source": [
    "# Remove genes absent from our entrez gene version\n",
    "for genes in wikipath_df.genes:\n",
    "    genes &= human_genes\n",
    "wikipath_df = wikipath_df[wikipath_df.genes.map(bool)]\n",
    "len(wikipath_df)"
   ]
  },
  {
   "cell_type": "code",
   "execution_count": 7,
   "metadata": {
    "collapsed": false
   },
   "outputs": [
    {
     "data": {
      "text/html": [
       "<div>\n",
       "<table border=\"1\" class=\"dataframe\">\n",
       "  <thead>\n",
       "    <tr style=\"text-align: right;\">\n",
       "      <th></th>\n",
       "      <th>name</th>\n",
       "      <th>description</th>\n",
       "      <th>genes</th>\n",
       "    </tr>\n",
       "  </thead>\n",
       "  <tbody>\n",
       "    <tr>\n",
       "      <th>152</th>\n",
       "      <td>Tryptophan metabolism(Homo sapiens)</td>\n",
       "      <td>http://wikipathways.org/instance/WP465</td>\n",
       "      <td>set([2639, 316, 51366, 26, 438, 1562, 1576, 89...</td>\n",
       "    </tr>\n",
       "    <tr>\n",
       "      <th>153</th>\n",
       "      <td>Steroid Biosynthesis(Homo sapiens)</td>\n",
       "      <td>http://wikipathways.org/instance/WP496</td>\n",
       "      <td>set([3293, 3292, 2165, 1369, 3294, 3284, 3283,...</td>\n",
       "    </tr>\n",
       "    <tr>\n",
       "      <th>154</th>\n",
       "      <td>Arylamine metabolism(Homo sapiens)</td>\n",
       "      <td>http://wikipathways.org/instance/WP694</td>\n",
       "      <td>set([54600, 1544, 6817, 54657, 6799, 10, 9])</td>\n",
       "    </tr>\n",
       "    <tr>\n",
       "      <th>155</th>\n",
       "      <td>Regulation of Actin Cytoskeleton(Homo sapiens)</td>\n",
       "      <td>http://wikipathways.org/instance/WP51</td>\n",
       "      <td>set([56924, 4659, 2258, 2934, 2260, 22808, 224...</td>\n",
       "    </tr>\n",
       "    <tr>\n",
       "      <th>156</th>\n",
       "      <td>Interleukin-11 Signaling Pathway(Homo sapiens)</td>\n",
       "      <td>http://wikipathways.org/instance/WP2332</td>\n",
       "      <td>set([5595, 3381, 5604, 596, 6714, 7297, 7040, ...</td>\n",
       "    </tr>\n",
       "  </tbody>\n",
       "</table>\n",
       "</div>"
      ],
      "text/plain": [
       "                                               name  \\\n",
       "152             Tryptophan metabolism(Homo sapiens)   \n",
       "153              Steroid Biosynthesis(Homo sapiens)   \n",
       "154              Arylamine metabolism(Homo sapiens)   \n",
       "155  Regulation of Actin Cytoskeleton(Homo sapiens)   \n",
       "156  Interleukin-11 Signaling Pathway(Homo sapiens)   \n",
       "\n",
       "                                 description  \\\n",
       "152   http://wikipathways.org/instance/WP465   \n",
       "153   http://wikipathways.org/instance/WP496   \n",
       "154   http://wikipathways.org/instance/WP694   \n",
       "155    http://wikipathways.org/instance/WP51   \n",
       "156  http://wikipathways.org/instance/WP2332   \n",
       "\n",
       "                                                 genes  \n",
       "152  set([2639, 316, 51366, 26, 438, 1562, 1576, 89...  \n",
       "153  set([3293, 3292, 2165, 1369, 3294, 3284, 3283,...  \n",
       "154       set([54600, 1544, 6817, 54657, 6799, 10, 9])  \n",
       "155  set([56924, 4659, 2258, 2934, 2260, 22808, 224...  \n",
       "156  set([5595, 3381, 5604, 596, 6714, 7297, 7040, ...  "
      ]
     },
     "execution_count": 7,
     "metadata": {},
     "output_type": "execute_result"
    }
   ],
   "source": [
    "wikipath_df.head()"
   ]
  },
  {
   "cell_type": "code",
   "execution_count": 8,
   "metadata": {
    "collapsed": false
   },
   "outputs": [
    {
     "data": {
      "image/png": "[encoded data removed]",
      "text/plain": [
       "<matplotlib.figure.Figure at 0x7fcc08017240>"
      ]
     },
     "metadata": {},
     "output_type": "display_data"
    }
   ],
   "source": [
    "# Density plot of genes per pathway\n",
    "seaborn.kdeplot(wikipath_df.genes.map(len), shade=True, );"
   ]
  },
  {
   "cell_type": "code",
   "execution_count": 9,
   "metadata": {
    "collapsed": false
   },
   "outputs": [
    {
     "data": {
      "image/png": "[encoded data removed]",
      "text/plain": [
       "<matplotlib.figure.Figure at 0x7fcc08017898>"
      ]
     },
     "metadata": {},
     "output_type": "display_data"
    }
   ],
   "source": [
    "# Histogram of genes per pathway\n",
    "plt.hist(list(wikipath_df.genes.map(len)), numpy.arange(100));\n",
    "plt.xlim(0, 100);"
   ]
  },
  {
   "cell_type": "markdown",
   "metadata": {},
   "source": [
    "## Parse MSigDB Pathways"
   ]
  },
  {
   "cell_type": "code",
   "execution_count": 10,
   "metadata": {
    "collapsed": false
   },
   "outputs": [
    {
     "data": {
      "text/plain": [
       "1330"
      ]
     },
     "execution_count": 10,
     "metadata": {},
     "output_type": "execute_result"
    }
   ],
   "source": [
    "gmt_generator = read_gmt('download/c2.cp.v5.0.entrez.gmt')\n",
    "msigdb_df = pandas.DataFrame(gmt_generator, columns = ['name', 'description', 'genes'])\n",
    "len(msigdb_df)"
   ]
  },
  {
   "cell_type": "code",
   "execution_count": 11,
   "metadata": {
    "collapsed": false
   },
   "outputs": [
    {
     "data": {
      "text/plain": [
       "1330"
      ]
     },
     "execution_count": 11,
     "metadata": {},
     "output_type": "execute_result"
    }
   ],
   "source": [
    "# Remove genes absent from our entrez gene version\n",
    "for genes in msigdb_df.genes:\n",
    "    genes &= human_genes\n",
    "msigdb_df = msigdb_df[msigdb_df.genes.map(bool)]\n",
    "len(msigdb_df)"
   ]
  },
  {
   "cell_type": "code",
   "execution_count": 12,
   "metadata": {
    "collapsed": false
   },
   "outputs": [
    {
     "data": {
      "text/html": [
       "<div>\n",
       "<table border=\"1\" class=\"dataframe\">\n",
       "  <thead>\n",
       "    <tr style=\"text-align: right;\">\n",
       "      <th></th>\n",
       "      <th>name</th>\n",
       "      <th>description</th>\n",
       "      <th>genes</th>\n",
       "    </tr>\n",
       "  </thead>\n",
       "  <tbody>\n",
       "    <tr>\n",
       "      <th>0</th>\n",
       "      <td>KEGG_GLYCOLYSIS_GLUCONEOGENESIS</td>\n",
       "      <td>http://www.broadinstitute.org/gsea/msigdb/card...</td>\n",
       "      <td>set([3098, 55276, 5214, 229, 5223, 10327, 2538...</td>\n",
       "    </tr>\n",
       "    <tr>\n",
       "      <th>1</th>\n",
       "      <td>KEGG_CITRATE_CYCLE_TCA_CYCLE</td>\n",
       "      <td>http://www.broadinstitute.org/gsea/msigdb/card...</td>\n",
       "      <td>set([8802, 3417, 1737, 5091, 5161, 4967, 5160,...</td>\n",
       "    </tr>\n",
       "    <tr>\n",
       "      <th>2</th>\n",
       "      <td>KEGG_PENTOSE_PHOSPHATE_PATHWAY</td>\n",
       "      <td>http://www.broadinstitute.org/gsea/msigdb/card...</td>\n",
       "      <td>set([221823, 729020, 55276, 5214, 229, 7086, 6...</td>\n",
       "    </tr>\n",
       "    <tr>\n",
       "      <th>3</th>\n",
       "      <td>KEGG_PENTOSE_AND_GLUCURONATE_INTERCONVERSIONS</td>\n",
       "      <td>http://www.broadinstitute.org/gsea/msigdb/card...</td>\n",
       "      <td>set([729020, 7363, 54658, 54577, 79799, 54659,...</td>\n",
       "    </tr>\n",
       "    <tr>\n",
       "      <th>4</th>\n",
       "      <td>KEGG_FRUCTOSE_AND_MANNOSE_METABOLISM</td>\n",
       "      <td>http://www.broadinstitute.org/gsea/msigdb/card...</td>\n",
       "      <td>set([3098, 29926, 5214, 229, 5208, 3795, 7167,...</td>\n",
       "    </tr>\n",
       "  </tbody>\n",
       "</table>\n",
       "</div>"
      ],
      "text/plain": [
       "                                            name  \\\n",
       "0                KEGG_GLYCOLYSIS_GLUCONEOGENESIS   \n",
       "1                   KEGG_CITRATE_CYCLE_TCA_CYCLE   \n",
       "2                 KEGG_PENTOSE_PHOSPHATE_PATHWAY   \n",
       "3  KEGG_PENTOSE_AND_GLUCURONATE_INTERCONVERSIONS   \n",
       "4           KEGG_FRUCTOSE_AND_MANNOSE_METABOLISM   \n",
       "\n",
       "                                         description  \\\n",
       "0  http://www.broadinstitute.org/gsea/msigdb/card...   \n",
       "1  http://www.broadinstitute.org/gsea/msigdb/card...   \n",
       "2  http://www.broadinstitute.org/gsea/msigdb/card...   \n",
       "3  http://www.broadinstitute.org/gsea/msigdb/card...   \n",
       "4  http://www.broadinstitute.org/gsea/msigdb/card...   \n",
       "\n",
       "                                               genes  \n",
       "0  set([3098, 55276, 5214, 229, 5223, 10327, 2538...  \n",
       "1  set([8802, 3417, 1737, 5091, 5161, 4967, 5160,...  \n",
       "2  set([221823, 729020, 55276, 5214, 229, 7086, 6...  \n",
       "3  set([729020, 7363, 54658, 54577, 79799, 54659,...  \n",
       "4  set([3098, 29926, 5214, 229, 5208, 3795, 7167,...  "
      ]
     },
     "execution_count": 12,
     "metadata": {},
     "output_type": "execute_result"
    }
   ],
   "source": [
    "msigdb_df.head()"
   ]
  },
  {
   "cell_type": "code",
   "execution_count": 13,
   "metadata": {
    "collapsed": false
   },
   "outputs": [
    {
     "data": {
      "image/png": "[encoded data removed]",
      "text/plain": [
       "<matplotlib.figure.Figure at 0x7fcc06c079e8>"
      ]
     },
     "metadata": {},
     "output_type": "display_data"
    }
   ],
   "source": [
    "# Density plot of genes per pathway\n",
    "seaborn.kdeplot(msigdb_df.genes.map(len), shade=True);"
   ]
  },
  {
   "cell_type": "code",
   "execution_count": 14,
   "metadata": {
    "collapsed": false
   },
   "outputs": [
    {
     "data": {
      "image/png": "[encoded data removed]",
      "text/plain": [
       "<matplotlib.figure.Figure at 0x7fcc06d8f908>"
      ]
     },
     "metadata": {},
     "output_type": "display_data"
    }
   ],
   "source": [
    "# Histogram of genes per pathway\n",
    "plt.hist(msigdb_df.genes.map(len), numpy.arange(100));\n",
    "plt.xlim(0, 50);"
   ]
  },
  {
   "cell_type": "code",
   "execution_count": 15,
   "metadata": {
    "collapsed": false
   },
   "outputs": [
    {
     "data": {
      "text/plain": [
       "Counter({'BIOCARTA': 217,\n",
       "         'KEGG': 186,\n",
       "         'NABA': 10,\n",
       "         'PID': 196,\n",
       "         'REACTOME': 674,\n",
       "         'SA': 10,\n",
       "         'SIG': 8,\n",
       "         'ST': 28,\n",
       "         'WNT': 1})"
      ]
     },
     "execution_count": 15,
     "metadata": {},
     "output_type": "execute_result"
    }
   ],
   "source": [
    "# MSigDB pathways per source database\n",
    "# https://www.broadinstitute.org/gsea/msigdb/collection_details.jsp#CP\n",
    "collections.Counter(msigdb_df.name.map(lambda x: x.split('_', 1)[0]))"
   ]
  },
  {
   "cell_type": "markdown",
   "metadata": {},
   "source": [
    "## Merge resources into a pathway dataframe"
   ]
  },
  {
   "cell_type": "code",
   "execution_count": 16,
   "metadata": {
    "collapsed": false
   },
   "outputs": [
    {
     "data": {
      "text/plain": [
       "1619"
      ]
     },
     "execution_count": 16,
     "metadata": {},
     "output_type": "execute_result"
    }
   ],
   "source": [
    "pathway_df = pandas.concat([\n",
    "    pandas.DataFrame({\n",
    "        'identifier': wikipath_df['description'].map(lambda x: x.rsplit('/', 1)[1]),\n",
    "        'name': wikipath_df['name'],\n",
    "        'url': wikipath_df['description'],\n",
    "        'source': 'wikipathways',\n",
    "        'license': 'CC-BY 3.0',\n",
    "        'genes': wikipath_df.genes\n",
    "    }),\n",
    "    pandas.DataFrame({\n",
    "        'identifier': msigdb_df['name'],\n",
    "        'name': msigdb_df['name'],\n",
    "        'url': msigdb_df['description'],\n",
    "        'source': 'msigdb',\n",
    "        'license': 'http://www.broadinstitute.org/cancer/software/gsea/wiki/index.php/License_info',\n",
    "        'genes': msigdb_df.genes}),\n",
    "])[['identifier', 'name', 'url', 'source', 'license', 'genes']]\n",
    "len(pathway_df)"
   ]
  },
  {
   "cell_type": "code",
   "execution_count": 17,
   "metadata": {
    "collapsed": false
   },
   "outputs": [
    {
     "data": {
      "text/plain": [
       "1617"
      ]
     },
     "execution_count": 17,
     "metadata": {},
     "output_type": "execute_result"
    }
   ],
   "source": [
    "# Remove duplicate pathways\n",
    "pathway_df.genes = pathway_df.genes.map(frozenset)\n",
    "pathway_df = pathway_df.drop_duplicates(['genes'])\n",
    "len(pathway_df)"
   ]
  },
  {
   "cell_type": "code",
   "execution_count": 18,
   "metadata": {
    "collapsed": false
   },
   "outputs": [],
   "source": [
    "pathway_df['coding_genes'] = pathway_df.genes.map(lambda x: x & human_coding_genes)"
   ]
  },
  {
   "cell_type": "code",
   "execution_count": 19,
   "metadata": {
    "collapsed": false
   },
   "outputs": [],
   "source": [
    "pathway_df.insert(3, 'n_genes', pathway_df.genes.map(len))\n",
    "pathway_df.insert(4, 'n_coding_genes', pathway_df.coding_genes.map(len)) "
   ]
  },
  {
   "cell_type": "code",
   "execution_count": 20,
   "metadata": {
    "collapsed": false
   },
   "outputs": [
    {
     "data": {
      "text/html": [
       "<div>\n",
       "<table border=\"1\" class=\"dataframe\">\n",
       "  <thead>\n",
       "    <tr style=\"text-align: right;\">\n",
       "      <th></th>\n",
       "      <th>identifier</th>\n",
       "      <th>name</th>\n",
       "      <th>url</th>\n",
       "      <th>n_genes</th>\n",
       "      <th>n_coding_genes</th>\n",
       "      <th>source</th>\n",
       "      <th>license</th>\n",
       "      <th>genes</th>\n",
       "      <th>coding_genes</th>\n",
       "    </tr>\n",
       "  </thead>\n",
       "  <tbody>\n",
       "    <tr>\n",
       "      <th>152</th>\n",
       "      <td>WP465</td>\n",
       "      <td>Tryptophan metabolism(Homo sapiens)</td>\n",
       "      <td>http://wikipathways.org/instance/WP465</td>\n",
       "      <td>46</td>\n",
       "      <td>46</td>\n",
       "      <td>wikipathways</td>\n",
       "      <td>CC-BY 3.0</td>\n",
       "      <td>(2639, 316, 51366, 26, 438, 1562, 1576, 8942, ...</td>\n",
       "      <td>(2639, 316, 51366, 26, 1562, 438, 1576, 8942, ...</td>\n",
       "    </tr>\n",
       "    <tr>\n",
       "      <th>153</th>\n",
       "      <td>WP496</td>\n",
       "      <td>Steroid Biosynthesis(Homo sapiens)</td>\n",
       "      <td>http://wikipathways.org/instance/WP496</td>\n",
       "      <td>10</td>\n",
       "      <td>10</td>\n",
       "      <td>wikipathways</td>\n",
       "      <td>CC-BY 3.0</td>\n",
       "      <td>(3293, 3292, 2165, 1369, 3294, 3284, 3283, 514...</td>\n",
       "      <td>(3293, 3292, 2165, 3294, 1369, 3284, 3283, 514...</td>\n",
       "    </tr>\n",
       "    <tr>\n",
       "      <th>154</th>\n",
       "      <td>WP694</td>\n",
       "      <td>Arylamine metabolism(Homo sapiens)</td>\n",
       "      <td>http://wikipathways.org/instance/WP694</td>\n",
       "      <td>7</td>\n",
       "      <td>7</td>\n",
       "      <td>wikipathways</td>\n",
       "      <td>CC-BY 3.0</td>\n",
       "      <td>(54600, 54657, 6799, 10, 1544, 6817, 9)</td>\n",
       "      <td>(54600, 1544, 6817, 54657, 6799, 10, 9)</td>\n",
       "    </tr>\n",
       "    <tr>\n",
       "      <th>155</th>\n",
       "      <td>WP51</td>\n",
       "      <td>Regulation of Actin Cytoskeleton(Homo sapiens)</td>\n",
       "      <td>http://wikipathways.org/instance/WP51</td>\n",
       "      <td>148</td>\n",
       "      <td>148</td>\n",
       "      <td>wikipathways</td>\n",
       "      <td>CC-BY 3.0</td>\n",
       "      <td>(56924, 4659, 2258, 2934, 2260, 22808, 2245, 2...</td>\n",
       "      <td>(56924, 4659, 2258, 2934, 2260, 22808, 2245, 2...</td>\n",
       "    </tr>\n",
       "    <tr>\n",
       "      <th>156</th>\n",
       "      <td>WP2332</td>\n",
       "      <td>Interleukin-11 Signaling Pathway(Homo sapiens)</td>\n",
       "      <td>http://wikipathways.org/instance/WP2332</td>\n",
       "      <td>44</td>\n",
       "      <td>44</td>\n",
       "      <td>wikipathways</td>\n",
       "      <td>CC-BY 3.0</td>\n",
       "      <td>(5595, 3381, 5604, 596, 6714, 7297, 7040, 5781...</td>\n",
       "      <td>(5595, 3381, 5604, 596, 6714, 7297, 7040, 5781...</td>\n",
       "    </tr>\n",
       "  </tbody>\n",
       "</table>\n",
       "</div>"
      ],
      "text/plain": [
       "    identifier                                            name  \\\n",
       "152      WP465             Tryptophan metabolism(Homo sapiens)   \n",
       "153      WP496              Steroid Biosynthesis(Homo sapiens)   \n",
       "154      WP694              Arylamine metabolism(Homo sapiens)   \n",
       "155       WP51  Regulation of Actin Cytoskeleton(Homo sapiens)   \n",
       "156     WP2332  Interleukin-11 Signaling Pathway(Homo sapiens)   \n",
       "\n",
       "                                         url  n_genes  n_coding_genes  \\\n",
       "152   http://wikipathways.org/instance/WP465       46              46   \n",
       "153   http://wikipathways.org/instance/WP496       10              10   \n",
       "154   http://wikipathways.org/instance/WP694        7               7   \n",
       "155    http://wikipathways.org/instance/WP51      148             148   \n",
       "156  http://wikipathways.org/instance/WP2332       44              44   \n",
       "\n",
       "           source    license  \\\n",
       "152  wikipathways  CC-BY 3.0   \n",
       "153  wikipathways  CC-BY 3.0   \n",
       "154  wikipathways  CC-BY 3.0   \n",
       "155  wikipathways  CC-BY 3.0   \n",
       "156  wikipathways  CC-BY 3.0   \n",
       "\n",
       "                                                 genes  \\\n",
       "152  (2639, 316, 51366, 26, 438, 1562, 1576, 8942, ...   \n",
       "153  (3293, 3292, 2165, 1369, 3294, 3284, 3283, 514...   \n",
       "154            (54600, 54657, 6799, 10, 1544, 6817, 9)   \n",
       "155  (56924, 4659, 2258, 2934, 2260, 22808, 2245, 2...   \n",
       "156  (5595, 3381, 5604, 596, 6714, 7297, 7040, 5781...   \n",
       "\n",
       "                                          coding_genes  \n",
       "152  (2639, 316, 51366, 26, 1562, 438, 1576, 8942, ...  \n",
       "153  (3293, 3292, 2165, 3294, 1369, 3284, 3283, 514...  \n",
       "154            (54600, 1544, 6817, 54657, 6799, 10, 9)  \n",
       "155  (56924, 4659, 2258, 2934, 2260, 22808, 2245, 2...  \n",
       "156  (5595, 3381, 5604, 596, 6714, 7297, 7040, 5781...  "
      ]
     },
     "execution_count": 20,
     "metadata": {},
     "output_type": "execute_result"
    }
   ],
   "source": [
    "pathway_df.head()"
   ]
  },
  {
   "cell_type": "code",
   "execution_count": 21,
   "metadata": {
    "collapsed": false
   },
   "outputs": [],
   "source": [
    "# Create a dataframe for writing as a tsv. Multi-element fields are pipe delimited.\n",
    "write_df = pathway_df.copy()\n",
    "join = lambda x: '|'.join(map(str, x))\n",
    "for column in 'genes', 'coding_genes':\n",
    "    write_df[column] = write_df[column].map(join)\n",
    "\n",
    "write_df.to_csv('data/pathways.tsv', index=False, sep='\\t')"
   ]
  }
 ],
 "metadata": {
  "kernelspec": {
   "display_name": "Python 3",
   "language": "python",
   "name": "python3"
  },
  "language_info": {
   "codemirror_mode": {
    "name": "ipython",
    "version": 3
   },
   "file_extension": ".py",
   "mimetype": "text/x-python",
   "name": "python",
   "nbconvert_exporter": "python",
   "pygments_lexer": "ipython3",
   "version": "3.4.3"
  }
 },
 "nbformat": 4,
 "nbformat_minor": 0
}
